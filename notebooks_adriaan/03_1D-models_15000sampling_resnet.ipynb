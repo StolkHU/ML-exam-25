{
 "cells": [
  {
   "cell_type": "code",
   "execution_count": 1,
   "metadata": {},
   "outputs": [],
   "source": [
    "import mltrainer\n",
    "assert mltrainer.__version__ >= \"0.2.5\""
   ]
  },
  {
   "cell_type": "code",
   "execution_count": 2,
   "metadata": {},
   "outputs": [],
   "source": [
    "from mads_datasets.base import BaseDatastreamer\n",
    "from mltrainer.preprocessors import BasePreprocessor\n",
    "import matplotlib.pyplot as plt\n",
    "from pathlib import Path\n",
    "import pandas as pd\n",
    "import seaborn as sns\n",
    "from sklearn.metrics import confusion_matrix\n",
    "from torch import nn\n",
    "import torch\n",
    "\n",
    "from src import datasets, metrics\n",
    "from mltrainer.transformer import print_cpu_memory_usage\n"
   ]
  },
  {
   "cell_type": "code",
   "execution_count": 3,
   "metadata": {},
   "outputs": [],
   "source": [
    "if torch.backends.mps.is_available() and torch.backends.mps.is_built():\n",
    "    device = torch.device(\"mps\")\n",
    "    print(\"Using MPS\")\n",
    "else:\n",
    "    device = \"cpu\""
   ]
  },
  {
   "cell_type": "code",
   "execution_count": 4,
   "metadata": {},
   "outputs": [
    {
     "name": "stdout",
     "output_type": "stream",
     "text": [
      "{'ptb': 'heart', 'arrhythmia': 'heart_big'}\n"
     ]
    }
   ],
   "source": [
    "import tomllib\n",
    "\n",
    "datadir = Path('../data')\n",
    "configfile = Path(\"config.toml\")\n",
    "\n",
    "with configfile.open('rb') as f:\n",
    "    config = tomllib.load(f)\n",
    "print(config)"
   ]
  },
  {
   "cell_type": "markdown",
   "metadata": {},
   "source": [
    "Lets test the big dataset"
   ]
  },
  {
   "cell_type": "code",
   "execution_count": 5,
   "metadata": {},
   "outputs": [
    {
     "data": {
      "text/plain": [
       "(PosixPath('../data/heart_big_train.parq'),\n",
       " PosixPath('../data/heart_big_test.parq'))"
      ]
     },
     "execution_count": 5,
     "metadata": {},
     "output_type": "execute_result"
    }
   ],
   "source": [
    "trainfile = datadir / (config['arrhythmia'] + '_train.parq')\n",
    "testfile = datadir / (config['arrhythmia'] + '_test.parq')\n",
    "trainfile, testfile"
   ]
  },
  {
   "cell_type": "markdown",
   "metadata": {},
   "source": [
    "Load the data"
   ]
  },
  {
   "cell_type": "code",
   "execution_count": 6,
   "metadata": {},
   "outputs": [
    {
     "data": {
      "text/plain": [
       "(Heartdataset (len 87554), Heartdataset (len 21892))"
      ]
     },
     "execution_count": 6,
     "metadata": {},
     "output_type": "execute_result"
    }
   ],
   "source": [
    "traindataset = datasets.HeartDataset1D(trainfile, target=\"target\")\n",
    "testdataset = datasets.HeartDataset1D(testfile, target=\"target\")\n",
    "traindataset, testdataset"
   ]
  },
  {
   "cell_type": "code",
   "execution_count": 7,
   "metadata": {},
   "outputs": [
    {
     "name": "stdout",
     "output_type": "stream",
     "text": [
      "Originele klassenverdeling:\n",
      "  Klasse 0: 72471 samples\n",
      "  Klasse 1: 2223 samples\n",
      "  Klasse 2: 5788 samples\n",
      "  Klasse 3: 641 samples\n",
      "  Klasse 4: 6431 samples\n",
      "Klasse 0: 72471 → 15000 samples\n",
      "Klasse 1: 2223 → 15000 samples\n",
      "Klasse 2: 5788 → 15000 samples\n",
      "Klasse 3: 641 → 15000 samples\n",
      "Klasse 4: 6431 → 15000 samples\n",
      "\n",
      "Nieuwe klassenverdeling: tensor([15000, 15000, 15000, 15000, 15000])\n",
      "Totaal aantal samples: 75000\n",
      "✅ Alle klasses hebben precies 15000 samples!\n"
     ]
    }
   ],
   "source": [
    "import torch\n",
    "\n",
    "target_count = 15000\n",
    "all_indices = []\n",
    "\n",
    "labels = torch.unique(traindataset.y)\n",
    "\n",
    "# ADRIAAN Print originele verdeling\n",
    "print(\"Originele klassenverdeling:\")\n",
    "for label in labels:\n",
    "    count = (traindataset.y == label).sum().item()\n",
    "    print(f\"  Klasse {label}: {count} samples\")\n",
    "\n",
    "for label in labels:\n",
    "    class_indices = (traindataset.y == label).nonzero().squeeze()\n",
    "    if len(class_indices.shape) == 0:\n",
    "        class_indices = class_indices.unsqueeze(0)  # voor 1 sample\n",
    "\n",
    "    current_count = len(class_indices)\n",
    "    print(f\"Klasse {label}: {current_count} → {target_count} samples\")\n",
    "\n",
    "    if current_count > target_count:\n",
    "        # Downsampling\n",
    "        selected = class_indices[torch.randperm(current_count)[:target_count]]\n",
    "    elif current_count < target_count:  # ADRIAAN Expliciete elif voor duidelijkheid\n",
    "        # Upsampling met replacement\n",
    "        selected = class_indices[torch.randint(0, current_count, (target_count,))]\n",
    "    else:\n",
    "        # ADRIAAN Exact target_count: gebruik alle samples\n",
    "        selected = class_indices\n",
    "\n",
    "    all_indices.append(selected)\n",
    "\n",
    "# Combineer en shuffle\n",
    "all_indices = torch.cat(all_indices)\n",
    "perm = torch.randperm(len(all_indices))\n",
    "all_indices = all_indices[perm]\n",
    "\n",
    "# Pas toe op dataset\n",
    "traindataset.x = traindataset.x[all_indices]\n",
    "traindataset.y = traindataset.y[all_indices]\n",
    "\n",
    "# Controleer de nieuwe verdeling\n",
    "print(f\"\\nNieuwe klassenverdeling: {torch.bincount(traindataset.y)}\")\n",
    "print(f\"Totaal aantal samples: {len(traindataset.y)}\")\n",
    "\n",
    "# ADRIAAN Verificatie dat elke klasse precies 15000 samples heeft\n",
    "for label in labels:\n",
    "    count = (traindataset.y == label).sum().item()\n",
    "    assert count == target_count, f\"Klasse {label} heeft {count} samples, verwacht {target_count}\"\n",
    "print(\"✅ Alle klasses hebben precies 15000 samples!\")\n"
   ]
  },
  {
   "cell_type": "markdown",
   "metadata": {},
   "source": [
    "Visualise it as 1D data"
   ]
  },
  {
   "cell_type": "code",
   "execution_count": 8,
   "metadata": {},
   "outputs": [
    {
     "name": "stdout",
     "output_type": "stream",
     "text": [
      "torch.Size([192, 1]) tensor(4)\n"
     ]
    },
    {
     "data": {
      "image/png": "[encoded data removed]",
      "text/plain": [
       "<Figure size 640x480 with 1 Axes>"
      ]
     },
     "metadata": {},
     "output_type": "display_data"
    }
   ],
   "source": [
    "x, y = traindataset[0]\n",
    "viz = x.squeeze().cpu().numpy()\n",
    "sns.lineplot(x=range(len(viz)), y=viz)\n",
    "title = 'normal' if y == 0 else 'abnormal'\n",
    "plt.title(f\"Label: {title}\");\n",
    "print(x.shape, y)"
   ]
  },
  {
   "cell_type": "markdown",
   "metadata": {},
   "source": [
    "Set up the streamer"
   ]
  },
  {
   "cell_type": "code",
   "execution_count": 9,
   "metadata": {},
   "outputs": [
    {
     "data": {
      "text/plain": [
       "(2343, 684)"
      ]
     },
     "execution_count": 9,
     "metadata": {},
     "output_type": "execute_result"
    }
   ],
   "source": [
    "trainstreamer = BaseDatastreamer(traindataset, preprocessor = BasePreprocessor(), batchsize=32)\n",
    "teststreamer = BaseDatastreamer(testdataset, preprocessor = BasePreprocessor(), batchsize=32)\n",
    "len(trainstreamer), len(teststreamer)"
   ]
  },
  {
   "cell_type": "code",
   "execution_count": 10,
   "metadata": {},
   "outputs": [
    {
     "name": "stdout",
     "output_type": "stream",
     "text": [
      "Current process memory usage: 1171.94 MB\n"
     ]
    }
   ],
   "source": [
    "print_cpu_memory_usage()"
   ]
  },
  {
   "cell_type": "markdown",
   "metadata": {},
   "source": [
    "We can import the transformer architecture from `mltrainer`, where i implemented a memory-efficient version of the transformer architecture."
   ]
  },
  {
   "cell_type": "code",
   "execution_count": 11,
   "metadata": {},
   "outputs": [],
   "source": [
    "from mltrainer.transformer import Transformer\n",
    "from src.resnet import ResNet50_1D, get_resnet50_config"
   ]
  },
  {
   "cell_type": "markdown",
   "metadata": {},
   "source": [
    "Note, the layers have different assumptions about the data structure:\n",
    "- streamer:         (batch, seq_len, channels)\n",
    "- conv1d:           (batch, channels, seq_len)\n",
    "- pos_encoding:     (batch, seq_len, channels)\n",
    "- gru (batchfirst): (batch, seq_len, channels)\n",
    "- attention:        (batch, seq_len, channels)\n",
    "\n",
    "As you can see, its only the conv1d layer that expects channels as the second dimension. Using a conv1d layer you\n",
    "will need to transpose the dimensions, I show how to do that in the `mltrainer.transfomer.forward` method.\n",
    "\n",
    "Again, the strategy of creating a block helps us stack the architecture more easily.\n",
    "Lets start with a very basic config."
   ]
  },
  {
   "cell_type": "code",
   "execution_count": 12,
   "metadata": {},
   "outputs": [],
   "source": [
    "config = get_resnet50_config()\n",
    "model = ResNet50_1D(config)"
   ]
  },
  {
   "cell_type": "markdown",
   "metadata": {},
   "source": [
    "Check if it works"
   ]
  },
  {
   "cell_type": "code",
   "execution_count": 13,
   "metadata": {},
   "outputs": [
    {
     "data": {
      "text/plain": [
       "(torch.Size([32, 192, 1]), torch.Size([32]))"
      ]
     },
     "execution_count": 13,
     "metadata": {},
     "output_type": "execute_result"
    }
   ],
   "source": [
    "x, y = next(trainstreamer.stream())\n",
    "x.shape, y.shape"
   ]
  },
  {
   "cell_type": "markdown",
   "metadata": {},
   "source": [
    "Shapes look good"
   ]
  },
  {
   "cell_type": "code",
   "execution_count": 14,
   "metadata": {},
   "outputs": [
    {
     "data": {
      "text/plain": [
       "torch.Size([32, 5])"
      ]
     },
     "execution_count": 14,
     "metadata": {},
     "output_type": "execute_result"
    }
   ],
   "source": [
    "yhat = model(x)\n",
    "yhat.shape"
   ]
  },
  {
   "cell_type": "markdown",
   "metadata": {},
   "source": [
    "Lets test the metrics for the untrained model"
   ]
  },
  {
   "cell_type": "code",
   "execution_count": 15,
   "metadata": {},
   "outputs": [],
   "source": [
    "f1micro = metrics.F1Score(average='micro')\n",
    "f1macro = metrics.F1Score(average='macro')\n",
    "precision = metrics.Precision('micro')\n",
    "recall = metrics.Recall('macro')\n",
    "accuracy = metrics.Accuracy()\n",
    "metrics_list = [f1micro, f1macro, precision, recall, accuracy]"
   ]
  },
  {
   "cell_type": "code",
   "execution_count": 16,
   "metadata": {},
   "outputs": [
    {
     "name": "stdout",
     "output_type": "stream",
     "text": [
      "F1Score_micro: 0.1875\n",
      "F1Score_macro: 0.12230576441102756\n",
      "Precision_micro: 0.1875\n",
      "Recall_macro: 0.26666666666666666\n",
      "Accuracy: 0.1875\n"
     ]
    }
   ],
   "source": [
    "for metric in metrics_list:\n",
    "    print(f\"{metric}:\", metric(y, yhat))"
   ]
  },
  {
   "cell_type": "markdown",
   "metadata": {},
   "source": [
    "And the memory"
   ]
  },
  {
   "cell_type": "code",
   "execution_count": 17,
   "metadata": {},
   "outputs": [
    {
     "name": "stdout",
     "output_type": "stream",
     "text": [
      "Current process memory usage: 1297.77 MB\n"
     ]
    }
   ],
   "source": [
    "print_cpu_memory_usage()"
   ]
  },
  {
   "cell_type": "code",
   "execution_count": 18,
   "metadata": {},
   "outputs": [
    {
     "name": "stderr",
     "output_type": "stream",
     "text": [
      "2025/06/19 14:20:35 INFO mlflow.store.db.utils: Creating initial MLflow database tables...\n",
      "2025/06/19 14:20:35 INFO mlflow.store.db.utils: Updating database tables\n",
      "INFO  [alembic.runtime.migration] Context impl SQLiteImpl.\n",
      "INFO  [alembic.runtime.migration] Will assume non-transactional DDL.\n",
      "INFO  [alembic.runtime.migration] Context impl SQLiteImpl.\n",
      "INFO  [alembic.runtime.migration] Will assume non-transactional DDL.\n"
     ]
    },
    {
     "data": {
      "text/plain": [
       "<Experiment: artifact_location='/home/azureuser/MADS-exam-25/notebooks_adriaan/mlruns/1', creation_time=1750339104006, experiment_id='1', last_update_time=1750339104006, lifecycle_stage='active', name='Simple CNN', tags={}>"
      ]
     },
     "execution_count": 18,
     "metadata": {},
     "output_type": "execute_result"
    }
   ],
   "source": [
    "import mlflow\n",
    "mlflow.set_tracking_uri(\"sqlite:///mads_exam_1d_cnn.db\")\n",
    "mlflow.set_experiment(\"Simple CNN\")"
   ]
  },
  {
   "cell_type": "markdown",
   "metadata": {},
   "source": [
    "We want to have feedback more often, so lets test metrics every 1/5th of the dataset"
   ]
  },
  {
   "cell_type": "code",
   "execution_count": 19,
   "metadata": {},
   "outputs": [
    {
     "data": {
      "text/plain": [
       "468"
      ]
     },
     "execution_count": 19,
     "metadata": {},
     "output_type": "execute_result"
    }
   ],
   "source": [
    "steps = len(trainstreamer) // 5\n",
    "steps"
   ]
  },
  {
   "cell_type": "code",
   "execution_count": null,
   "metadata": {},
   "outputs": [
    {
     "ename": "MlflowException",
     "evalue": "Changing param values is not allowed. Params were already logged='[{'key': 'weight_decay', 'old_value': '0.0001', 'new_value': '1e-05'}]' for run ID='4d5d84a04aa44fec8a1bf0b50f9f257e'.",
     "output_type": "error",
     "traceback": [
      "\u001b[31m---------------------------------------------------------------------------\u001b[39m",
      "\u001b[31mMlflowException\u001b[39m                           Traceback (most recent call last)",
      "\u001b[36mCell\u001b[39m\u001b[36m \u001b[39m\u001b[32mIn[20]\u001b[39m\u001b[32m, line 24\u001b[39m\n\u001b[32m     22\u001b[39m mlflow.log_param(\u001b[33m\"\u001b[39m\u001b[33mscheduler\u001b[39m\u001b[33m\"\u001b[39m, \u001b[33m\"\u001b[39m\u001b[33mNone\u001b[39m\u001b[33m\"\u001b[39m)\n\u001b[32m     23\u001b[39m mlflow.log_param(\u001b[33m\"\u001b[39m\u001b[33mearlystop\u001b[39m\u001b[33m\"\u001b[39m, \u001b[33m\"\u001b[39m\u001b[33mNone\u001b[39m\u001b[33m\"\u001b[39m)\n\u001b[32m---> \u001b[39m\u001b[32m24\u001b[39m \u001b[43mmlflow\u001b[49m\u001b[43m.\u001b[49m\u001b[43mlog_params\u001b[49m\u001b[43m(\u001b[49m\u001b[43msettings\u001b[49m\u001b[43m.\u001b[49m\u001b[43moptimizer_kwargs\u001b[49m\u001b[43m)\u001b[49m\n\u001b[32m     26\u001b[39m trainer = Trainer(\n\u001b[32m     27\u001b[39m     model=model,\n\u001b[32m     28\u001b[39m     settings=settings,\n\u001b[32m   (...)\u001b[39m\u001b[32m     34\u001b[39m     device=device,\n\u001b[32m     35\u001b[39m     )\n\u001b[32m     36\u001b[39m trainer.loop()\n",
      "\u001b[36mFile \u001b[39m\u001b[32m~/MADS-exam-25/.venv/lib/python3.12/site-packages/mlflow/tracking/fluent.py:1167\u001b[39m, in \u001b[36mlog_params\u001b[39m\u001b[34m(params, synchronous, run_id)\u001b[39m\n\u001b[32m   1165\u001b[39m params_arr = [Param(key, \u001b[38;5;28mstr\u001b[39m(value)) \u001b[38;5;28;01mfor\u001b[39;00m key, value \u001b[38;5;129;01min\u001b[39;00m params.items()]\n\u001b[32m   1166\u001b[39m synchronous = synchronous \u001b[38;5;28;01mif\u001b[39;00m synchronous \u001b[38;5;129;01mis\u001b[39;00m \u001b[38;5;129;01mnot\u001b[39;00m \u001b[38;5;28;01mNone\u001b[39;00m \u001b[38;5;28;01melse\u001b[39;00m \u001b[38;5;129;01mnot\u001b[39;00m MLFLOW_ENABLE_ASYNC_LOGGING.get()\n\u001b[32m-> \u001b[39m\u001b[32m1167\u001b[39m \u001b[38;5;28;01mreturn\u001b[39;00m \u001b[43mMlflowClient\u001b[49m\u001b[43m(\u001b[49m\u001b[43m)\u001b[49m\u001b[43m.\u001b[49m\u001b[43mlog_batch\u001b[49m\u001b[43m(\u001b[49m\n\u001b[32m   1168\u001b[39m \u001b[43m    \u001b[49m\u001b[43mrun_id\u001b[49m\u001b[43m=\u001b[49m\u001b[43mrun_id\u001b[49m\u001b[43m,\u001b[49m\u001b[43m \u001b[49m\u001b[43mmetrics\u001b[49m\u001b[43m=\u001b[49m\u001b[43m[\u001b[49m\u001b[43m]\u001b[49m\u001b[43m,\u001b[49m\u001b[43m \u001b[49m\u001b[43mparams\u001b[49m\u001b[43m=\u001b[49m\u001b[43mparams_arr\u001b[49m\u001b[43m,\u001b[49m\u001b[43m \u001b[49m\u001b[43mtags\u001b[49m\u001b[43m=\u001b[49m\u001b[43m[\u001b[49m\u001b[43m]\u001b[49m\u001b[43m,\u001b[49m\u001b[43m \u001b[49m\u001b[43msynchronous\u001b[49m\u001b[43m=\u001b[49m\u001b[43msynchronous\u001b[49m\n\u001b[32m   1169\u001b[39m \u001b[43m\u001b[49m\u001b[43m)\u001b[49m\n",
      "\u001b[36mFile \u001b[39m\u001b[32m~/MADS-exam-25/.venv/lib/python3.12/site-packages/mlflow/tracking/client.py:2363\u001b[39m, in \u001b[36mMlflowClient.log_batch\u001b[39m\u001b[34m(self, run_id, metrics, params, tags, synchronous)\u001b[39m\n\u001b[32m   2360\u001b[39m \u001b[38;5;66;03m# Stringify the values of the params\u001b[39;00m\n\u001b[32m   2361\u001b[39m params = [Param(key=param.key, value=\u001b[38;5;28mstr\u001b[39m(param.value)) \u001b[38;5;28;01mfor\u001b[39;00m param \u001b[38;5;129;01min\u001b[39;00m params]\n\u001b[32m-> \u001b[39m\u001b[32m2363\u001b[39m \u001b[38;5;28;01mreturn\u001b[39;00m \u001b[38;5;28;43mself\u001b[39;49m\u001b[43m.\u001b[49m\u001b[43m_tracking_client\u001b[49m\u001b[43m.\u001b[49m\u001b[43mlog_batch\u001b[49m\u001b[43m(\u001b[49m\n\u001b[32m   2364\u001b[39m \u001b[43m    \u001b[49m\u001b[43mrun_id\u001b[49m\u001b[43m,\u001b[49m\u001b[43m \u001b[49m\u001b[43mmetrics\u001b[49m\u001b[43m,\u001b[49m\u001b[43m \u001b[49m\u001b[43mparams\u001b[49m\u001b[43m,\u001b[49m\u001b[43m \u001b[49m\u001b[43mtags\u001b[49m\u001b[43m,\u001b[49m\u001b[43m \u001b[49m\u001b[43msynchronous\u001b[49m\u001b[43m=\u001b[49m\u001b[43msynchronous\u001b[49m\n\u001b[32m   2365\u001b[39m \u001b[43m\u001b[49m\u001b[43m)\u001b[49m\n",
      "\u001b[36mFile \u001b[39m\u001b[32m~/MADS-exam-25/.venv/lib/python3.12/site-packages/mlflow/tracking/_tracking_service/client.py:531\u001b[39m, in \u001b[36mTrackingServiceClient.log_batch\u001b[39m\u001b[34m(self, run_id, metrics, params, tags, synchronous)\u001b[39m\n\u001b[32m    528\u001b[39m metrics = metrics[metrics_batch_size:]\n\u001b[32m    530\u001b[39m \u001b[38;5;28;01mif\u001b[39;00m synchronous:\n\u001b[32m--> \u001b[39m\u001b[32m531\u001b[39m     \u001b[38;5;28;43mself\u001b[39;49m\u001b[43m.\u001b[49m\u001b[43mstore\u001b[49m\u001b[43m.\u001b[49m\u001b[43mlog_batch\u001b[49m\u001b[43m(\u001b[49m\n\u001b[32m    532\u001b[39m \u001b[43m        \u001b[49m\u001b[43mrun_id\u001b[49m\u001b[43m=\u001b[49m\u001b[43mrun_id\u001b[49m\u001b[43m,\u001b[49m\u001b[43m \u001b[49m\u001b[43mmetrics\u001b[49m\u001b[43m=\u001b[49m\u001b[43mmetrics_batch\u001b[49m\u001b[43m,\u001b[49m\u001b[43m \u001b[49m\u001b[43mparams\u001b[49m\u001b[43m=\u001b[49m\u001b[43mparams_batch\u001b[49m\u001b[43m,\u001b[49m\u001b[43m \u001b[49m\u001b[43mtags\u001b[49m\u001b[43m=\u001b[49m\u001b[43mtags_batch\u001b[49m\n\u001b[32m    533\u001b[39m \u001b[43m    \u001b[49m\u001b[43m)\u001b[49m\n\u001b[32m    534\u001b[39m \u001b[38;5;28;01melse\u001b[39;00m:\n\u001b[32m    535\u001b[39m     run_operations_list.append(\n\u001b[32m    536\u001b[39m         \u001b[38;5;28mself\u001b[39m.store.log_batch_async(\n\u001b[32m    537\u001b[39m             run_id=run_id,\n\u001b[32m   (...)\u001b[39m\u001b[32m    541\u001b[39m         )\n\u001b[32m    542\u001b[39m     )\n",
      "\u001b[36mFile \u001b[39m\u001b[32m~/MADS-exam-25/.venv/lib/python3.12/site-packages/mlflow/store/tracking/sqlalchemy_store.py:1488\u001b[39m, in \u001b[36mSqlAlchemyStore.log_batch\u001b[39m\u001b[34m(self, run_id, metrics, params, tags)\u001b[39m\n\u001b[32m   1486\u001b[39m     \u001b[38;5;28mself\u001b[39m._set_tags(run_id, tags)\n\u001b[32m   1487\u001b[39m \u001b[38;5;28;01mexcept\u001b[39;00m MlflowException \u001b[38;5;28;01mas\u001b[39;00m e:\n\u001b[32m-> \u001b[39m\u001b[32m1488\u001b[39m     \u001b[38;5;28;01mraise\u001b[39;00m e\n\u001b[32m   1489\u001b[39m \u001b[38;5;28;01mexcept\u001b[39;00m \u001b[38;5;167;01mException\u001b[39;00m \u001b[38;5;28;01mas\u001b[39;00m e:\n\u001b[32m   1490\u001b[39m     \u001b[38;5;28;01mraise\u001b[39;00m MlflowException(e, INTERNAL_ERROR)\n",
      "\u001b[36mFile \u001b[39m\u001b[32m~/MADS-exam-25/.venv/lib/python3.12/site-packages/mlflow/store/tracking/sqlalchemy_store.py:1483\u001b[39m, in \u001b[36mSqlAlchemyStore.log_batch\u001b[39m\u001b[34m(self, run_id, metrics, params, tags)\u001b[39m\n\u001b[32m   1481\u001b[39m \u001b[38;5;28mself\u001b[39m._check_run_is_active(run)\n\u001b[32m   1482\u001b[39m \u001b[38;5;28;01mtry\u001b[39;00m:\n\u001b[32m-> \u001b[39m\u001b[32m1483\u001b[39m     \u001b[38;5;28;43mself\u001b[39;49m\u001b[43m.\u001b[49m\u001b[43m_log_params\u001b[49m\u001b[43m(\u001b[49m\u001b[43mrun_id\u001b[49m\u001b[43m,\u001b[49m\u001b[43m \u001b[49m\u001b[43mparams\u001b[49m\u001b[43m)\u001b[49m\n\u001b[32m   1484\u001b[39m     \u001b[38;5;28mself\u001b[39m._log_metrics(run_id, metrics)\n\u001b[32m   1485\u001b[39m     \u001b[38;5;28mself\u001b[39m._log_model_metrics(run_id, metrics)\n",
      "\u001b[36mFile \u001b[39m\u001b[32m~/MADS-exam-25/.venv/lib/python3.12/site-packages/mlflow/store/tracking/sqlalchemy_store.py:1239\u001b[39m, in \u001b[36mSqlAlchemyStore._log_params\u001b[39m\u001b[34m(self, run_id, params)\u001b[39m\n\u001b[32m   1236\u001b[39m     new_params.append(SqlParam(run_uuid=run_id, key=param.key, value=param.value))\n\u001b[32m   1238\u001b[39m \u001b[38;5;28;01mif\u001b[39;00m non_matching_params:\n\u001b[32m-> \u001b[39m\u001b[32m1239\u001b[39m     \u001b[38;5;28;01mraise\u001b[39;00m MlflowException(\n\u001b[32m   1240\u001b[39m         \u001b[33m\"\u001b[39m\u001b[33mChanging param values is not allowed. Params were already\u001b[39m\u001b[33m\"\u001b[39m\n\u001b[32m   1241\u001b[39m         \u001b[33mf\u001b[39m\u001b[33m\"\u001b[39m\u001b[33m logged=\u001b[39m\u001b[33m'\u001b[39m\u001b[38;5;132;01m{\u001b[39;00mnon_matching_params\u001b[38;5;132;01m}\u001b[39;00m\u001b[33m'\u001b[39m\u001b[33m for run ID=\u001b[39m\u001b[33m'\u001b[39m\u001b[38;5;132;01m{\u001b[39;00mrun_id\u001b[38;5;132;01m}\u001b[39;00m\u001b[33m'\u001b[39m\u001b[33m.\u001b[39m\u001b[33m\"\u001b[39m,\n\u001b[32m   1242\u001b[39m         INVALID_PARAMETER_VALUE,\n\u001b[32m   1243\u001b[39m     )\n\u001b[32m   1245\u001b[39m \u001b[38;5;28;01mif\u001b[39;00m \u001b[38;5;129;01mnot\u001b[39;00m new_params:\n\u001b[32m   1246\u001b[39m     \u001b[38;5;28;01mreturn\u001b[39;00m\n",
      "\u001b[31mMlflowException\u001b[39m: Changing param values is not allowed. Params were already logged='[{'key': 'weight_decay', 'old_value': '0.0001', 'new_value': '1e-05'}]' for run ID='4d5d84a04aa44fec8a1bf0b50f9f257e'."
     ]
    }
   ],
   "source": [
    "from mltrainer import Trainer, TrainerSettings, ReportTypes\n",
    "loss_fn = torch.nn.CrossEntropyLoss()\n",
    "\n",
    "with mlflow.start_run():\n",
    "    optimizer = torch.optim.Adam\n",
    "\n",
    "    settings = TrainerSettings(\n",
    "        epochs=20,\n",
    "        metrics=[accuracy, f1micro, f1macro, precision, recall],\n",
    "        logdir=\"logs/heart1D\",\n",
    "        train_steps=steps,\n",
    "        valid_steps=steps,\n",
    "        reporttypes=[ReportTypes.TENSORBOARD, ReportTypes.MLFLOW],\n",
    "        scheduler_kwargs=None,\n",
    "        earlystop_kwargs=None\n",
    "    )\n",
    "\n",
    "    mlflow.set_tag(\"model\", \"ResNet50\")\n",
    "    mlflow.set_tag(\"dataset\", \"heart_small_binary\")\n",
    "    mlflow.log_params(config)\n",
    "    mlflow.log_param(\"epochs\", settings.epochs)\n",
    "    mlflow.log_param(\"scheduler\", \"None\")\n",
    "    mlflow.log_param(\"earlystop\", \"None\")\n",
    "    \n",
    "    trainer = Trainer(\n",
    "        model=model,\n",
    "        settings=settings,\n",
    "        loss_fn=loss_fn,\n",
    "        optimizer=optimizer,\n",
    "        traindataloader=trainstreamer.stream(),\n",
    "        validdataloader=teststreamer.stream(),\n",
    "        scheduler=None,\n",
    "        device=device,\n",
    "        )\n",
    "    trainer.loop()"
   ]
  },
  {
   "cell_type": "code",
   "execution_count": null,
   "metadata": {},
   "outputs": [],
   "source": [
    "print_cpu_memory_usage()"
   ]
  },
  {
   "cell_type": "code",
   "execution_count": null,
   "metadata": {},
   "outputs": [],
   "source": [
    "import seaborn as sns\n",
    "import numpy as np\n",
    "\n",
    "y_true = []\n",
    "y_pred = []\n",
    "\n",
    "testdata = teststreamer.stream()\n",
    "model.to(\"cpu\")\n",
    "for _ in range(len(teststreamer)):\n",
    "    X, y = next(testdata)\n",
    "    yhat = model(X)\n",
    "    yhat = yhat.argmax(dim=1) # we get the one with the highest probability\n",
    "    y_pred.append(yhat.cpu().tolist())\n",
    "    y_true.append(y.cpu().tolist())\n",
    "\n",
    "yhat = [x for y in y_pred for x in y]\n",
    "y = [x for y in y_true for x in y]\n",
    "\n",
    "cfm = confusion_matrix(y, yhat)\n",
    "cfm = cfm / np.sum(cfm, axis=1, keepdims=True)\n",
    "\n",
    "plot = sns.heatmap(cfm, annot=cfm, fmt=\".3f\")\n",
    "plot.set(xlabel=\"Predicted\", ylabel=\"Target\")"
   ]
  },
  {
   "cell_type": "code",
   "execution_count": null,
   "metadata": {},
   "outputs": [],
   "source": []
  }
 ],
 "metadata": {
  "kernelspec": {
   "display_name": ".venv",
   "language": "python",
   "name": "python3"
  },
  "language_info": {
   "codemirror_mode": {
    "name": "ipython",
    "version": 3
   },
   "file_extension": ".py",
   "mimetype": "text/x-python",
   "name": "python",
   "nbconvert_exporter": "python",
   "pygments_lexer": "ipython3",
   "version": "3.12.10"
  }
 },
 "nbformat": 4,
 "nbformat_minor": 2
}
