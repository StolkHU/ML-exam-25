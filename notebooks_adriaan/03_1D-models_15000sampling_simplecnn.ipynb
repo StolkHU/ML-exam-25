{
 "cells": [
  {
   "cell_type": "code",
   "execution_count": 23,
   "metadata": {},
   "outputs": [],
   "source": [
    "import mltrainer\n",
    "assert mltrainer.__version__ >= \"0.2.5\""
   ]
  },
  {
   "cell_type": "code",
   "execution_count": 24,
   "metadata": {},
   "outputs": [],
   "source": [
    "from mads_datasets.base import BaseDatastreamer\n",
    "from mltrainer.preprocessors import BasePreprocessor\n",
    "import matplotlib.pyplot as plt\n",
    "from pathlib import Path\n",
    "import pandas as pd\n",
    "import seaborn as sns\n",
    "from sklearn.metrics import confusion_matrix\n",
    "from torch import nn\n",
    "import torch\n",
    "\n",
    "from src import datasets, metrics\n",
    "from mltrainer.transformer import print_cpu_memory_usage\n"
   ]
  },
  {
   "cell_type": "code",
   "execution_count": 25,
   "metadata": {},
   "outputs": [],
   "source": [
    "if torch.backends.mps.is_available() and torch.backends.mps.is_built():\n",
    "    device = torch.device(\"mps\")\n",
    "    print(\"Using MPS\")\n",
    "else:\n",
    "    device = \"cpu\""
   ]
  },
  {
   "cell_type": "code",
   "execution_count": 26,
   "metadata": {},
   "outputs": [
    {
     "name": "stdout",
     "output_type": "stream",
     "text": [
      "{'ptb': 'heart', 'arrhythmia': 'heart_big'}\n"
     ]
    }
   ],
   "source": [
    "import tomllib\n",
    "\n",
    "datadir = Path('../data')\n",
    "configfile = Path(\"config.toml\")\n",
    "\n",
    "with configfile.open('rb') as f:\n",
    "    config = tomllib.load(f)\n",
    "print(config)"
   ]
  },
  {
   "cell_type": "markdown",
   "metadata": {},
   "source": [
    "Lets test the big dataset"
   ]
  },
  {
   "cell_type": "code",
   "execution_count": 27,
   "metadata": {},
   "outputs": [
    {
     "data": {
      "text/plain": [
       "(PosixPath('../data/heart_big_train.parq'),\n",
       " PosixPath('../data/heart_big_test.parq'))"
      ]
     },
     "execution_count": 27,
     "metadata": {},
     "output_type": "execute_result"
    }
   ],
   "source": [
    "trainfile = datadir / (config['arrhythmia'] + '_train.parq')\n",
    "testfile = datadir / (config['arrhythmia'] + '_test.parq')\n",
    "trainfile, testfile"
   ]
  },
  {
   "cell_type": "markdown",
   "metadata": {},
   "source": [
    "Load the data"
   ]
  },
  {
   "cell_type": "code",
   "execution_count": 28,
   "metadata": {},
   "outputs": [
    {
     "data": {
      "text/plain": [
       "(Heartdataset (len 87554), Heartdataset (len 21892))"
      ]
     },
     "execution_count": 28,
     "metadata": {},
     "output_type": "execute_result"
    }
   ],
   "source": [
    "traindataset = datasets.HeartDataset1D(trainfile, target=\"target\")\n",
    "testdataset = datasets.HeartDataset1D(testfile, target=\"target\")\n",
    "traindataset, testdataset"
   ]
  },
  {
   "cell_type": "code",
   "execution_count": 29,
   "metadata": {},
   "outputs": [
    {
     "name": "stdout",
     "output_type": "stream",
     "text": [
      "Originele klassenverdeling:\n",
      "  Klasse 0: 72471 samples\n",
      "  Klasse 1: 2223 samples\n",
      "  Klasse 2: 5788 samples\n",
      "  Klasse 3: 641 samples\n",
      "  Klasse 4: 6431 samples\n",
      "Klasse 0: 72471 → 15000 samples\n",
      "Klasse 1: 2223 → 15000 samples\n",
      "Klasse 2: 5788 → 15000 samples\n",
      "Klasse 3: 641 → 15000 samples\n",
      "Klasse 4: 6431 → 15000 samples\n",
      "\n",
      "Nieuwe klassenverdeling: tensor([15000, 15000, 15000, 15000, 15000])\n",
      "Totaal aantal samples: 75000\n",
      "✅ Alle klasses hebben precies 15000 samples!\n"
     ]
    }
   ],
   "source": [
    "import torch\n",
    "\n",
    "target_count = 15000\n",
    "all_indices = []\n",
    "\n",
    "labels = torch.unique(traindataset.y)\n",
    "\n",
    "# ADRIAAN Print originele verdeling\n",
    "print(\"Originele klassenverdeling:\")\n",
    "for label in labels:\n",
    "    count = (traindataset.y == label).sum().item()\n",
    "    print(f\"  Klasse {label}: {count} samples\")\n",
    "\n",
    "for label in labels:\n",
    "    class_indices = (traindataset.y == label).nonzero().squeeze()\n",
    "    if len(class_indices.shape) == 0:\n",
    "        class_indices = class_indices.unsqueeze(0)  # voor 1 sample\n",
    "\n",
    "    current_count = len(class_indices)\n",
    "    print(f\"Klasse {label}: {current_count} → {target_count} samples\")\n",
    "\n",
    "    if current_count > target_count:\n",
    "        # Downsampling\n",
    "        selected = class_indices[torch.randperm(current_count)[:target_count]]\n",
    "    elif current_count < target_count:  # ADRIAAN Expliciete elif voor duidelijkheid\n",
    "        # Upsampling met replacement\n",
    "        selected = class_indices[torch.randint(0, current_count, (target_count,))]\n",
    "    else:\n",
    "        # ADRIAAN Exact target_count: gebruik alle samples\n",
    "        selected = class_indices\n",
    "\n",
    "    all_indices.append(selected)\n",
    "\n",
    "# Combineer en shuffle\n",
    "all_indices = torch.cat(all_indices)\n",
    "perm = torch.randperm(len(all_indices))\n",
    "all_indices = all_indices[perm]\n",
    "\n",
    "# Pas toe op dataset\n",
    "traindataset.x = traindataset.x[all_indices]\n",
    "traindataset.y = traindataset.y[all_indices]\n",
    "\n",
    "# Controleer de nieuwe verdeling\n",
    "print(f\"\\nNieuwe klassenverdeling: {torch.bincount(traindataset.y)}\")\n",
    "print(f\"Totaal aantal samples: {len(traindataset.y)}\")\n",
    "\n",
    "# ADRIAAN Verificatie dat elke klasse precies 15000 samples heeft\n",
    "for label in labels:\n",
    "    count = (traindataset.y == label).sum().item()\n",
    "    assert count == target_count, f\"Klasse {label} heeft {count} samples, verwacht {target_count}\"\n",
    "print(\"✅ Alle klasses hebben precies 15000 samples!\")\n"
   ]
  },
  {
   "cell_type": "markdown",
   "metadata": {},
   "source": [
    "Visualise it as 1D data"
   ]
  },
  {
   "cell_type": "code",
   "execution_count": 30,
   "metadata": {},
   "outputs": [
    {
     "name": "stdout",
     "output_type": "stream",
     "text": [
      "torch.Size([192, 1]) tensor(0)\n"
     ]
    },
    {
     "data": {
      "image/png": "[encoded data removed]",
      "text/plain": [
       "<Figure size 640x480 with 1 Axes>"
      ]
     },
     "metadata": {},
     "output_type": "display_data"
    }
   ],
   "source": [
    "x, y = traindataset[0]\n",
    "viz = x.squeeze().cpu().numpy()\n",
    "sns.lineplot(x=range(len(viz)), y=viz)\n",
    "title = 'normal' if y == 0 else 'abnormal'\n",
    "plt.title(f\"Label: {title}\");\n",
    "print(x.shape, y)"
   ]
  },
  {
   "cell_type": "markdown",
   "metadata": {},
   "source": [
    "Set up the streamer"
   ]
  },
  {
   "cell_type": "code",
   "execution_count": 31,
   "metadata": {},
   "outputs": [
    {
     "data": {
      "text/plain": [
       "(2343, 684)"
      ]
     },
     "execution_count": 31,
     "metadata": {},
     "output_type": "execute_result"
    }
   ],
   "source": [
    "trainstreamer = BaseDatastreamer(traindataset, preprocessor = BasePreprocessor(), batchsize=32)\n",
    "teststreamer = BaseDatastreamer(testdataset, preprocessor = BasePreprocessor(), batchsize=32)\n",
    "len(trainstreamer), len(teststreamer)"
   ]
  },
  {
   "cell_type": "code",
   "execution_count": 32,
   "metadata": {},
   "outputs": [
    {
     "name": "stdout",
     "output_type": "stream",
     "text": [
      "Current process memory usage: 1547.91 MB\n"
     ]
    }
   ],
   "source": [
    "print_cpu_memory_usage()"
   ]
  },
  {
   "cell_type": "markdown",
   "metadata": {},
   "source": [
    "We can import the transformer architecture from `mltrainer`, where i implemented a memory-efficient version of the transformer architecture."
   ]
  },
  {
   "cell_type": "code",
   "execution_count": 33,
   "metadata": {},
   "outputs": [],
   "source": [
    "from mltrainer.transformer import Transformer\n",
    "from src.simple_cnn import SimpleCNN "
   ]
  },
  {
   "cell_type": "markdown",
   "metadata": {},
   "source": [
    "Note, the layers have different assumptions about the data structure:\n",
    "- streamer:         (batch, seq_len, channels)\n",
    "- conv1d:           (batch, channels, seq_len)\n",
    "- pos_encoding:     (batch, seq_len, channels)\n",
    "- gru (batchfirst): (batch, seq_len, channels)\n",
    "- attention:        (batch, seq_len, channels)\n",
    "\n",
    "As you can see, its only the conv1d layer that expects channels as the second dimension. Using a conv1d layer you\n",
    "will need to transpose the dimensions, I show how to do that in the `mltrainer.transfomer.forward` method.\n",
    "\n",
    "Again, the strategy of creating a block helps us stack the architecture more easily.\n",
    "Lets start with a very basic config."
   ]
  },
  {
   "cell_type": "code",
   "execution_count": 34,
   "metadata": {},
   "outputs": [],
   "source": [
    "config = {\n",
    "    'output': 5,      # 5 arrhythmia klassen\n",
    "    'dropout': 0.3    # Pas aan naar wens\n",
    "}\n",
    "\n",
    "model = SimpleCNN(config)"
   ]
  },
  {
   "cell_type": "markdown",
   "metadata": {},
   "source": [
    "Check if it works"
   ]
  },
  {
   "cell_type": "code",
   "execution_count": 35,
   "metadata": {},
   "outputs": [
    {
     "data": {
      "text/plain": [
       "(torch.Size([32, 192, 1]), torch.Size([32]))"
      ]
     },
     "execution_count": 35,
     "metadata": {},
     "output_type": "execute_result"
    }
   ],
   "source": [
    "x, y = next(trainstreamer.stream())\n",
    "x.shape, y.shape"
   ]
  },
  {
   "cell_type": "markdown",
   "metadata": {},
   "source": [
    "Shapes look good"
   ]
  },
  {
   "cell_type": "code",
   "execution_count": 36,
   "metadata": {},
   "outputs": [
    {
     "data": {
      "text/plain": [
       "torch.Size([32, 5])"
      ]
     },
     "execution_count": 36,
     "metadata": {},
     "output_type": "execute_result"
    }
   ],
   "source": [
    "yhat = model(x)\n",
    "yhat.shape"
   ]
  },
  {
   "cell_type": "markdown",
   "metadata": {},
   "source": [
    "Lets test the metrics for the untrained model"
   ]
  },
  {
   "cell_type": "code",
   "execution_count": 37,
   "metadata": {},
   "outputs": [],
   "source": [
    "f1micro = metrics.F1Score(average='micro')\n",
    "f1macro = metrics.F1Score(average='macro')\n",
    "precision = metrics.Precision('micro')\n",
    "recall = metrics.Recall('macro')\n",
    "accuracy = metrics.Accuracy()\n",
    "metrics_list = [f1micro, f1macro, precision, recall, accuracy]"
   ]
  },
  {
   "cell_type": "code",
   "execution_count": 38,
   "metadata": {},
   "outputs": [
    {
     "name": "stdout",
     "output_type": "stream",
     "text": [
      "F1Score_micro: 0.21875\n",
      "F1Score_macro: 0.15454545454545454\n",
      "Precision_micro: 0.21875\n",
      "Recall_macro: 0.25999999999999995\n",
      "Accuracy: 0.21875\n"
     ]
    }
   ],
   "source": [
    "for metric in metrics_list:\n",
    "    print(f\"{metric}:\", metric(y, yhat))"
   ]
  },
  {
   "cell_type": "markdown",
   "metadata": {},
   "source": [
    "And the memory"
   ]
  },
  {
   "cell_type": "code",
   "execution_count": 39,
   "metadata": {},
   "outputs": [
    {
     "name": "stdout",
     "output_type": "stream",
     "text": [
      "Current process memory usage: 1548.17 MB\n"
     ]
    }
   ],
   "source": [
    "print_cpu_memory_usage()"
   ]
  },
  {
   "cell_type": "code",
   "execution_count": 40,
   "metadata": {},
   "outputs": [
    {
     "data": {
      "text/plain": [
       "<Experiment: artifact_location='/home/azureuser/MADS-exam-25/notebooks_adriaan/mlruns/1', creation_time=1750339104006, experiment_id='1', last_update_time=1750339104006, lifecycle_stage='active', name='Simple CNN', tags={}>"
      ]
     },
     "execution_count": 40,
     "metadata": {},
     "output_type": "execute_result"
    }
   ],
   "source": [
    "import mlflow\n",
    "mlflow.set_tracking_uri(\"sqlite:///mads_exam_1d_cnn.db\")\n",
    "mlflow.set_experiment(\"Simple CNN\")"
   ]
  },
  {
   "cell_type": "markdown",
   "metadata": {},
   "source": [
    "We want to have feedback more often, so lets test metrics every 1/5th of the dataset"
   ]
  },
  {
   "cell_type": "code",
   "execution_count": 41,
   "metadata": {},
   "outputs": [
    {
     "data": {
      "text/plain": [
       "468"
      ]
     },
     "execution_count": 41,
     "metadata": {},
     "output_type": "execute_result"
    }
   ],
   "source": [
    "steps = len(trainstreamer) // 5\n",
    "steps"
   ]
  },
  {
   "cell_type": "code",
   "execution_count": 42,
   "metadata": {},
   "outputs": [
    {
     "name": "stderr",
     "output_type": "stream",
     "text": [
      "\u001b[32m2025-06-19 13:32:30.356\u001b[0m | \u001b[1mINFO    \u001b[0m | \u001b[36mmltrainer.trainer\u001b[0m:\u001b[36mdir_add_timestamp\u001b[0m:\u001b[36m24\u001b[0m - \u001b[1mLogging to logs/heart1D/20250619-133230\u001b[0m\n",
      "100%|\u001b[38;2;30;71;6m██████████\u001b[0m| 468/468 [00:23<00:00, 20.18it/s]\n",
      "\u001b[32m2025-06-19 13:33:02.695\u001b[0m | \u001b[1mINFO    \u001b[0m | \u001b[36mmltrainer.trainer\u001b[0m:\u001b[36mreport\u001b[0m:\u001b[36m209\u001b[0m - \u001b[1mEpoch 0 train 0.5374 test 0.5957 metric ['0.8225', '0.8225', '0.5840', '0.8225', '0.8697']\u001b[0m\n",
      "100%|\u001b[38;2;30;71;6m██████████\u001b[0m| 468/468 [00:21<00:00, 21.32it/s]\n",
      "\u001b[32m2025-06-19 13:33:34.098\u001b[0m | \u001b[1mINFO    \u001b[0m | \u001b[36mmltrainer.trainer\u001b[0m:\u001b[36mreport\u001b[0m:\u001b[36m209\u001b[0m - \u001b[1mEpoch 1 train 0.3381 test 0.3152 metric ['0.9360', '0.9360', '0.7453', '0.9360', '0.8700']\u001b[0m\n",
      "100%|\u001b[38;2;30;71;6m██████████\u001b[0m| 468/468 [00:22<00:00, 21.12it/s]\n",
      "\u001b[32m2025-06-19 13:34:05.527\u001b[0m | \u001b[1mINFO    \u001b[0m | \u001b[36mmltrainer.trainer\u001b[0m:\u001b[36mreport\u001b[0m:\u001b[36m209\u001b[0m - \u001b[1mEpoch 2 train 0.2832 test 0.5909 metric ['0.7704', '0.7704', '0.5628', '0.7704', '0.8714']\u001b[0m\n",
      "100%|\u001b[38;2;30;71;6m██████████\u001b[0m| 468/468 [00:25<00:00, 18.66it/s]\n",
      "\u001b[32m2025-06-19 13:34:41.826\u001b[0m | \u001b[1mINFO    \u001b[0m | \u001b[36mmltrainer.trainer\u001b[0m:\u001b[36mreport\u001b[0m:\u001b[36m209\u001b[0m - \u001b[1mEpoch 3 train 0.2580 test 0.2774 metric ['0.9038', '0.9038', '0.6954', '0.9038', '0.9118']\u001b[0m\n",
      "100%|\u001b[38;2;30;71;6m██████████\u001b[0m| 468/468 [00:25<00:00, 18.25it/s]\n",
      "\u001b[32m2025-06-19 13:35:19.011\u001b[0m | \u001b[1mINFO    \u001b[0m | \u001b[36mmltrainer.trainer\u001b[0m:\u001b[36mreport\u001b[0m:\u001b[36m209\u001b[0m - \u001b[1mEpoch 4 train 0.2077 test 0.3800 metric ['0.8618', '0.8618', '0.6485', '0.8618', '0.9118']\u001b[0m\n",
      "100%|\u001b[38;2;30;71;6m██████████\u001b[0m| 468/468 [00:25<00:00, 18.15it/s]\n",
      "\u001b[32m2025-06-19 13:35:56.130\u001b[0m | \u001b[1mINFO    \u001b[0m | \u001b[36mmltrainer.trainer\u001b[0m:\u001b[36mreport\u001b[0m:\u001b[36m209\u001b[0m - \u001b[1mEpoch 5 train 0.1986 test 0.1872 metric ['0.9350', '0.9350', '0.7451', '0.9350', '0.9284']\u001b[0m\n",
      "100%|\u001b[38;2;30;71;6m██████████\u001b[0m| 468/468 [00:25<00:00, 18.15it/s]\n",
      "\u001b[32m2025-06-19 13:36:32.992\u001b[0m | \u001b[1mINFO    \u001b[0m | \u001b[36mmltrainer.trainer\u001b[0m:\u001b[36mreport\u001b[0m:\u001b[36m209\u001b[0m - \u001b[1mEpoch 6 train 0.1824 test 0.2116 metric ['0.9249', '0.9249', '0.7359', '0.9249', '0.9319']\u001b[0m\n",
      "100%|\u001b[38;2;30;71;6m██████████\u001b[0m| 468/468 [00:25<00:00, 18.65it/s]\n",
      "\u001b[32m2025-06-19 13:37:09.283\u001b[0m | \u001b[1mINFO    \u001b[0m | \u001b[36mmltrainer.trainer\u001b[0m:\u001b[36mreport\u001b[0m:\u001b[36m209\u001b[0m - \u001b[1mEpoch 7 train 0.1701 test 0.2372 metric ['0.9153', '0.9153', '0.7269', '0.9153', '0.9315']\u001b[0m\n",
      "100%|\u001b[38;2;30;71;6m██████████\u001b[0m| 468/468 [00:25<00:00, 18.37it/s]\n",
      "\u001b[32m2025-06-19 13:37:46.029\u001b[0m | \u001b[1mINFO    \u001b[0m | \u001b[36mmltrainer.trainer\u001b[0m:\u001b[36mreport\u001b[0m:\u001b[36m209\u001b[0m - \u001b[1mEpoch 8 train 0.1583 test 0.2710 metric ['0.8954', '0.8954', '0.6912', '0.8954', '0.9244']\u001b[0m\n",
      "100%|\u001b[38;2;30;71;6m██████████\u001b[0m| 468/468 [00:25<00:00, 18.37it/s]\n",
      "\u001b[32m2025-06-19 13:38:22.633\u001b[0m | \u001b[1mINFO    \u001b[0m | \u001b[36mmltrainer.trainer\u001b[0m:\u001b[36mreport\u001b[0m:\u001b[36m209\u001b[0m - \u001b[1mEpoch 9 train 0.1522 test 0.4033 metric ['0.8484', '0.8484', '0.6344', '0.8484', '0.9175']\u001b[0m\n",
      "100%|\u001b[38;2;30;71;6m██████████\u001b[0m| 468/468 [00:25<00:00, 18.19it/s]\n",
      "\u001b[32m2025-06-19 13:38:59.806\u001b[0m | \u001b[1mINFO    \u001b[0m | \u001b[36mmltrainer.trainer\u001b[0m:\u001b[36mreport\u001b[0m:\u001b[36m209\u001b[0m - \u001b[1mEpoch 10 train 0.1410 test 0.2704 metric ['0.9095', '0.9095', '0.7045', '0.9095', '0.9332']\u001b[0m\n",
      "100%|\u001b[38;2;30;71;6m██████████\u001b[0m| 468/468 [00:26<00:00, 17.65it/s]\n",
      "\u001b[32m2025-06-19 13:39:38.386\u001b[0m | \u001b[1mINFO    \u001b[0m | \u001b[36mmltrainer.trainer\u001b[0m:\u001b[36mreport\u001b[0m:\u001b[36m209\u001b[0m - \u001b[1mEpoch 11 train 0.1470 test 0.2797 metric ['0.8949', '0.8949', '0.6842', '0.8949', '0.9261']\u001b[0m\n",
      "100%|\u001b[38;2;30;71;6m██████████\u001b[0m| 468/468 [00:26<00:00, 17.59it/s]\n",
      "\u001b[32m2025-06-19 13:40:17.268\u001b[0m | \u001b[1mINFO    \u001b[0m | \u001b[36mmltrainer.trainer\u001b[0m:\u001b[36mreport\u001b[0m:\u001b[36m209\u001b[0m - \u001b[1mEpoch 12 train 0.1304 test 0.2165 metric ['0.9229', '0.9229', '0.7429', '0.9229', '0.9322']\u001b[0m\n",
      "100%|\u001b[38;2;30;71;6m██████████\u001b[0m| 468/468 [00:26<00:00, 17.54it/s]\n",
      "\u001b[32m2025-06-19 13:40:56.298\u001b[0m | \u001b[1mINFO    \u001b[0m | \u001b[36mmltrainer.trainer\u001b[0m:\u001b[36mreport\u001b[0m:\u001b[36m209\u001b[0m - \u001b[1mEpoch 13 train 0.1236 test 0.1955 metric ['0.9395', '0.9395', '0.7680', '0.9395', '0.9360']\u001b[0m\n",
      "100%|\u001b[38;2;30;71;6m██████████\u001b[0m| 468/468 [00:26<00:00, 17.42it/s]\n",
      "\u001b[32m2025-06-19 13:41:35.407\u001b[0m | \u001b[1mINFO    \u001b[0m | \u001b[36mmltrainer.trainer\u001b[0m:\u001b[36mreport\u001b[0m:\u001b[36m209\u001b[0m - \u001b[1mEpoch 14 train 0.1181 test 0.1861 metric ['0.9347', '0.9347', '0.7582', '0.9347', '0.9474']\u001b[0m\n",
      "100%|\u001b[38;2;30;71;6m██████████\u001b[0m| 468/468 [00:27<00:00, 17.22it/s]\n",
      "\u001b[32m2025-06-19 13:42:15.595\u001b[0m | \u001b[1mINFO    \u001b[0m | \u001b[36mmltrainer.trainer\u001b[0m:\u001b[36mreport\u001b[0m:\u001b[36m209\u001b[0m - \u001b[1mEpoch 15 train 0.1112 test 0.1586 metric ['0.9366', '0.9366', '0.7629', '0.9366', '0.9403']\u001b[0m\n",
      "100%|\u001b[38;2;30;71;6m██████████\u001b[0m| 468/468 [00:28<00:00, 16.69it/s]\n",
      "\u001b[32m2025-06-19 13:42:57.137\u001b[0m | \u001b[1mINFO    \u001b[0m | \u001b[36mmltrainer.trainer\u001b[0m:\u001b[36mreport\u001b[0m:\u001b[36m209\u001b[0m - \u001b[1mEpoch 16 train 0.1188 test 0.1891 metric ['0.9339', '0.9339', '0.7790', '0.9339', '0.9450']\u001b[0m\n",
      "100%|\u001b[38;2;30;71;6m██████████\u001b[0m| 468/468 [00:28<00:00, 16.48it/s]\n",
      "\u001b[32m2025-06-19 13:43:39.590\u001b[0m | \u001b[1mINFO    \u001b[0m | \u001b[36mmltrainer.trainer\u001b[0m:\u001b[36mreport\u001b[0m:\u001b[36m209\u001b[0m - \u001b[1mEpoch 17 train 0.1102 test 0.1666 metric ['0.9434', '0.9434', '0.7877', '0.9434', '0.9491']\u001b[0m\n",
      "100%|\u001b[38;2;30;71;6m██████████\u001b[0m| 468/468 [00:29<00:00, 16.05it/s]\n",
      "\u001b[32m2025-06-19 13:44:22.845\u001b[0m | \u001b[1mINFO    \u001b[0m | \u001b[36mmltrainer.trainer\u001b[0m:\u001b[36mreport\u001b[0m:\u001b[36m209\u001b[0m - \u001b[1mEpoch 18 train 0.1035 test 0.3129 metric ['0.8802', '0.8802', '0.6829', '0.8802', '0.9300']\u001b[0m\n",
      "100%|\u001b[38;2;30;71;6m██████████\u001b[0m| 468/468 [00:29<00:00, 15.80it/s]\n",
      "\u001b[32m2025-06-19 13:45:06.900\u001b[0m | \u001b[1mINFO    \u001b[0m | \u001b[36mmltrainer.trainer\u001b[0m:\u001b[36mreport\u001b[0m:\u001b[36m209\u001b[0m - \u001b[1mEpoch 19 train 0.0932 test 0.1677 metric ['0.9349', '0.9349', '0.7684', '0.9349', '0.9472']\u001b[0m\n",
      "100%|\u001b[38;2;30;71;6m██████████\u001b[0m| 20/20 [12:36<00:00, 37.83s/it]\n"
     ]
    }
   ],
   "source": [
    "from mltrainer import Trainer, TrainerSettings, ReportTypes\n",
    "loss_fn = torch.nn.CrossEntropyLoss()\n",
    "\n",
    "with mlflow.start_run():\n",
    "    optimizer = torch.optim.Adam\n",
    "\n",
    "    settings = TrainerSettings(\n",
    "        epochs=20,\n",
    "        metrics=[accuracy, f1micro, f1macro, precision, recall],\n",
    "        logdir=\"logs/heart1D\",\n",
    "        train_steps=steps,\n",
    "        valid_steps=steps,\n",
    "        reporttypes=[ReportTypes.TENSORBOARD, ReportTypes.MLFLOW],\n",
    "        scheduler_kwargs=None,\n",
    "        earlystop_kwargs=None\n",
    "    )\n",
    "\n",
    "    mlflow.set_tag(\"model\", \"Transfomer\")\n",
    "    mlflow.set_tag(\"dataset\", \"heart_small_binary\")\n",
    "    mlflow.log_params(config)\n",
    "    mlflow.log_param(\"epochs\", settings.epochs)\n",
    "    mlflow.log_param(\"optimizer\", str(optimizer))\n",
    "    mlflow.log_param(\"scheduler\", \"None\")\n",
    "    mlflow.log_param(\"earlystop\", \"None\")\n",
    "    mlflow.log_params(settings.optimizer_kwargs)\n",
    "\n",
    "    trainer = Trainer(\n",
    "        model=model,\n",
    "        settings=settings,\n",
    "        loss_fn=loss_fn,\n",
    "        optimizer=optimizer,\n",
    "        traindataloader=trainstreamer.stream(),\n",
    "        validdataloader=teststreamer.stream(),\n",
    "        scheduler=None,\n",
    "        device=device,\n",
    "        )\n",
    "    trainer.loop()"
   ]
  },
  {
   "cell_type": "code",
   "execution_count": 43,
   "metadata": {},
   "outputs": [
    {
     "name": "stdout",
     "output_type": "stream",
     "text": [
      "Current process memory usage: 1559.44 MB\n"
     ]
    }
   ],
   "source": [
    "print_cpu_memory_usage()"
   ]
  },
  {
   "cell_type": "code",
   "execution_count": 44,
   "metadata": {},
   "outputs": [
    {
     "data": {
      "text/plain": [
       "[Text(0.5, 23.52222222222222, 'Predicted'),\n",
       " Text(50.722222222222214, 0.5, 'Target')]"
      ]
     },
     "execution_count": 44,
     "metadata": {},
     "output_type": "execute_result"
    },
    {
     "data": {
      "image/png": "[encoded data removed]",
      "text/plain": [
       "<Figure size 640x480 with 2 Axes>"
      ]
     },
     "metadata": {},
     "output_type": "display_data"
    }
   ],
   "source": [
    "import seaborn as sns\n",
    "import numpy as np\n",
    "\n",
    "y_true = []\n",
    "y_pred = []\n",
    "\n",
    "testdata = teststreamer.stream()\n",
    "model.to(\"cpu\")\n",
    "for _ in range(len(teststreamer)):\n",
    "    X, y = next(testdata)\n",
    "    yhat = model(X)\n",
    "    yhat = yhat.argmax(dim=1) # we get the one with the highest probability\n",
    "    y_pred.append(yhat.cpu().tolist())\n",
    "    y_true.append(y.cpu().tolist())\n",
    "\n",
    "yhat = [x for y in y_pred for x in y]\n",
    "y = [x for y in y_true for x in y]\n",
    "\n",
    "cfm = confusion_matrix(y, yhat)\n",
    "cfm = cfm / np.sum(cfm, axis=1, keepdims=True)\n",
    "\n",
    "plot = sns.heatmap(cfm, annot=cfm, fmt=\".3f\")\n",
    "plot.set(xlabel=\"Predicted\", ylabel=\"Target\")"
   ]
  },
  {
   "cell_type": "code",
   "execution_count": null,
   "metadata": {},
   "outputs": [],
   "source": []
  }
 ],
 "metadata": {
  "kernelspec": {
   "display_name": ".venv",
   "language": "python",
   "name": "python3"
  },
  "language_info": {
   "codemirror_mode": {
    "name": "ipython",
    "version": 3
   },
   "file_extension": ".py",
   "mimetype": "text/x-python",
   "name": "python",
   "nbconvert_exporter": "python",
   "pygments_lexer": "ipython3",
   "version": "3.12.10"
  }
 },
 "nbformat": 4,
 "nbformat_minor": 2
}
