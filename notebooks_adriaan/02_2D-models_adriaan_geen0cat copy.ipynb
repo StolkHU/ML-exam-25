{
 "cells": [
  {
   "cell_type": "code",
   "execution_count": 1,
   "metadata": {},
   "outputs": [],
   "source": [
    "from mads_datasets.base import BaseDatastreamer\n",
    "from mltrainer.preprocessors import BasePreprocessor\n",
    "from pathlib import Path\n",
    "import pandas as pd\n",
    "import seaborn as sns\n",
    "from sklearn.metrics import confusion_matrix\n",
    "from torch import nn\n",
    "import torch\n",
    "\n",
    "from src import datasets, metrics"
   ]
  },
  {
   "cell_type": "code",
   "execution_count": 2,
   "metadata": {},
   "outputs": [
    {
     "name": "stdout",
     "output_type": "stream",
     "text": [
      "{'ptb': 'heart', 'arrhythmia': 'heart_big'}\n"
     ]
    }
   ],
   "source": [
    "import tomllib\n",
    "\n",
    "datadir = Path('../data')\n",
    "configfile = Path(\"config.toml\")\n",
    "\n",
    "with configfile.open('rb') as f:\n",
    "    config = tomllib.load(f)\n",
    "print(config)"
   ]
  },
  {
   "cell_type": "code",
   "execution_count": 3,
   "metadata": {},
   "outputs": [
    {
     "data": {
      "text/plain": [
       "(PosixPath('../data/heart_big_train.parq'),\n",
       " PosixPath('../data/heart_big_test.parq'))"
      ]
     },
     "execution_count": 3,
     "metadata": {},
     "output_type": "execute_result"
    }
   ],
   "source": [
    "trainfile = datadir / (config['arrhythmia'] + '_train.parq')\n",
    "testfile = datadir / (config['arrhythmia'] + '_test.parq')\n",
    "trainfile, testfile"
   ]
  },
  {
   "cell_type": "markdown",
   "metadata": {},
   "source": [
    "Get the 1D data into a 2D matrix"
   ]
  },
  {
   "cell_type": "code",
   "execution_count": 30,
   "metadata": {},
   "outputs": [],
   "source": [
    "shape = (16, 12)\n",
    "traindataset = datasets.HeartDataset2D(trainfile, target=\"target\", shape=shape)\n",
    "testdataset = datasets.HeartDataset2D(testfile, target=\"target\", shape=shape)\n",
    "\n",
    "# Alleen training data filteren\n",
    "train_mask = traindataset.y != 0\n",
    "traindataset.x = traindataset.x[train_mask]\n",
    "traindataset.y = traindataset.y[train_mask]\n",
    "\n",
    "# Test data wel de samples behouden, maar apart\n",
    "test_mask = testdataset.y != 0\n",
    "testdataset.x = testdataset.x[test_mask]\n",
    "testdataset.y = testdataset.y[test_mask]\n",
    "\n",
    "# Remappen van nummers\n",
    "traindataset.y = traindataset.y - 1  # S:1→0, V:2→1, F:3→2, Q:4→3\n",
    "testdataset.y = testdataset.y - 1\n",
    "\n",
    "traindataset, testdataset\n",
    "if torch.backends.mps.is_available() and torch.backends.mps.is_built():\n",
    "    device = torch.device(\"mps\")\n",
    "    print(\"Using MPS\")\n",
    "else:\n",
    "    device = \"cpu\"\n"
   ]
  },
  {
   "cell_type": "markdown",
   "metadata": {},
   "source": [
    "Let's see how that works. \n",
    "Compare this to the 1D data to see if you understand the transformation."
   ]
  },
  {
   "cell_type": "code",
   "execution_count": 31,
   "metadata": {},
   "outputs": [
    {
     "data": {
      "text/plain": [
       "(torch.Size([1, 16, 12]), tensor(0))"
      ]
     },
     "execution_count": 31,
     "metadata": {},
     "output_type": "execute_result"
    },
    {
     "data": {
      "image/png": "[encoded data removed]",
      "text/plain": [
       "<Figure size 640x480 with 2 Axes>"
      ]
     },
     "metadata": {},
     "output_type": "display_data"
    }
   ],
   "source": [
    "x, y = traindataset[0]\n",
    "viz = x.squeeze().cpu().numpy()\n",
    "sns.heatmap(viz, cmap='rainbow')\n",
    "x.shape, y"
   ]
  },
  {
   "cell_type": "markdown",
   "metadata": {},
   "source": [
    "Load into a streamer"
   ]
  },
  {
   "cell_type": "code",
   "execution_count": 32,
   "metadata": {},
   "outputs": [
    {
     "data": {
      "text/plain": [
       "(471, 117)"
      ]
     },
     "execution_count": 32,
     "metadata": {},
     "output_type": "execute_result"
    }
   ],
   "source": [
    "trainstreamer = BaseDatastreamer(traindataset, preprocessor = BasePreprocessor(), batchsize=32)\n",
    "teststreamer = BaseDatastreamer(testdataset, preprocessor = BasePreprocessor(), batchsize=32)\n",
    "len(trainstreamer), len(teststreamer)"
   ]
  },
  {
   "cell_type": "code",
   "execution_count": 34,
   "metadata": {},
   "outputs": [
    {
     "data": {
      "text/plain": [
       "(torch.Size([32, 1, 16, 12]), torch.Size([32]))"
      ]
     },
     "execution_count": 34,
     "metadata": {},
     "output_type": "execute_result"
    }
   ],
   "source": [
    "x, y = next(trainstreamer.stream())\n",
    "x.shape, y.shape"
   ]
  },
  {
   "cell_type": "markdown",
   "metadata": {},
   "source": [
    "`mltrainer` provides a ConvBlock, which makes it easier to stack block in the model.\n",
    "It also provides an architecture inspired by AlexNet (2012) which is used as a starting point for image classification.\n",
    "\n",
    "Feel free to experiment with other architectures here:\n",
    "- adding ideas like resnet, googlenet, squeeze-excite, or even vision transformers (eg see [torch docs](https://docs.pytorch.org/tutorials/beginner/vt_tutorial.html#classifying-images-with-deit) ) \n",
    "- add additional layers like dropout, batchnorm, etc.\n",
    "- experiment with different ways to go from 4D to 2D tensors"
   ]
  },
  {
   "cell_type": "code",
   "execution_count": 35,
   "metadata": {},
   "outputs": [],
   "source": [
    "from mltrainer.imagemodels import CNNConfig, CNNblocks"
   ]
  },
  {
   "cell_type": "code",
   "execution_count": 36,
   "metadata": {},
   "outputs": [
    {
     "name": "stdout",
     "output_type": "stream",
     "text": [
      "Calculated matrix size: 48\n",
      "Caluclated flatten size: 1536\n"
     ]
    },
    {
     "data": {
      "text/plain": [
       "torch.Size([32, 5])"
      ]
     },
     "execution_count": 36,
     "metadata": {},
     "output_type": "execute_result"
    }
   ],
   "source": [
    "config = CNNConfig(\n",
    "    matrixshape=shape,\n",
    "    batchsize=32,\n",
    "    input_channels=1,\n",
    "    hidden=32,\n",
    "    kernel_size=3,\n",
    "    maxpool=2,\n",
    "    num_layers=2,\n",
    "    num_classes=5,\n",
    ")\n",
    "model = CNNblocks(config)\n",
    "model(x).shape"
   ]
  },
  {
   "cell_type": "code",
   "execution_count": 37,
   "metadata": {},
   "outputs": [],
   "source": [
    "yhat = model(x)"
   ]
  },
  {
   "cell_type": "markdown",
   "metadata": {},
   "source": [
    "The data is unbalanced, so we are interested in much more than just accuracy."
   ]
  },
  {
   "cell_type": "code",
   "execution_count": 38,
   "metadata": {},
   "outputs": [
    {
     "data": {
      "text/plain": [
       "{'matrixshape': (16, 12),\n",
       " 'batchsize': 32,\n",
       " 'input_channels': 1,\n",
       " 'hidden': 32,\n",
       " 'kernel_size': 3,\n",
       " 'maxpool': 2,\n",
       " 'num_layers': 2,\n",
       " 'num_classes': 5}"
      ]
     },
     "execution_count": 38,
     "metadata": {},
     "output_type": "execute_result"
    }
   ],
   "source": [
    "config.__dict__"
   ]
  },
  {
   "cell_type": "markdown",
   "metadata": {},
   "source": [
    "Read [here](https://scikit-learn.org/stable/modules/generated/sklearn.metrics.f1_score.html) about micro and macro F1 scores.\n"
   ]
  },
  {
   "cell_type": "code",
   "execution_count": 39,
   "metadata": {},
   "outputs": [],
   "source": [
    "f1micro = metrics.F1Score(average='micro')\n",
    "f1macro = metrics.F1Score(average='macro')\n",
    "precision = metrics.Precision('micro')\n",
    "recall = metrics.Recall('macro')\n",
    "accuracy = metrics.Accuracy()"
   ]
  },
  {
   "cell_type": "code",
   "execution_count": 40,
   "metadata": {},
   "outputs": [
    {
     "data": {
      "text/plain": [
       "<Experiment: artifact_location='/home/azureuser/MADS-exam-25/notebooks_adriaan/mlruns/2', creation_time=1750236057609, experiment_id='2', last_update_time=1750236057609, lifecycle_stage='active', name='2D alexnet without normal class', tags={}>"
      ]
     },
     "execution_count": 40,
     "metadata": {},
     "output_type": "execute_result"
    }
   ],
   "source": [
    "import mlflow\n",
    "mlflow.set_tracking_uri(\"sqlite:///mads_exam.db\")\n",
    "mlflow.set_experiment(\"2D alexnet without normal class\")"
   ]
  },
  {
   "cell_type": "code",
   "execution_count": 43,
   "metadata": {},
   "outputs": [
    {
     "name": "stderr",
     "output_type": "stream",
     "text": [
      "\u001b[32m2025-06-18 08:54:14.228\u001b[0m | \u001b[1mINFO    \u001b[0m | \u001b[36mmltrainer.trainer\u001b[0m:\u001b[36mdir_add_timestamp\u001b[0m:\u001b[36m24\u001b[0m - \u001b[1mLogging to logs/heart2D/20250618-085414\u001b[0m\n",
      "100%|\u001b[38;2;30;71;6m██████████\u001b[0m| 94/94 [00:01<00:00, 53.52it/s]\n",
      "\u001b[32m2025-06-18 08:54:16.475\u001b[0m | \u001b[1mINFO    \u001b[0m | \u001b[36mmltrainer.trainer\u001b[0m:\u001b[36mreport\u001b[0m:\u001b[36m209\u001b[0m - \u001b[1mEpoch 0 train 0.4338 test 0.3228 metric ['0.8723', '0.8723', '0.7236', '0.8723', '0.7282']\u001b[0m\n",
      "100%|\u001b[38;2;30;71;6m██████████\u001b[0m| 94/94 [00:01<00:00, 54.57it/s]\n",
      "\u001b[32m2025-06-18 08:54:18.695\u001b[0m | \u001b[1mINFO    \u001b[0m | \u001b[36mmltrainer.trainer\u001b[0m:\u001b[36mreport\u001b[0m:\u001b[36m209\u001b[0m - \u001b[1mEpoch 1 train 0.3042 test 0.3347 metric ['0.8668', '0.8668', '0.7838', '0.8668', '0.8038']\u001b[0m\n",
      "100%|\u001b[38;2;30;71;6m██████████\u001b[0m| 94/94 [00:01<00:00, 51.91it/s]\n",
      "\u001b[32m2025-06-18 08:54:21.032\u001b[0m | \u001b[1mINFO    \u001b[0m | \u001b[36mmltrainer.trainer\u001b[0m:\u001b[36mreport\u001b[0m:\u001b[36m209\u001b[0m - \u001b[1mEpoch 2 train 0.2623 test 0.2101 metric ['0.9117', '0.9117', '0.8143', '0.9117', '0.8408']\u001b[0m\n",
      "100%|\u001b[38;2;30;71;6m██████████\u001b[0m| 94/94 [00:01<00:00, 59.51it/s]\n",
      "\u001b[32m2025-06-18 08:54:23.114\u001b[0m | \u001b[1mINFO    \u001b[0m | \u001b[36mmltrainer.trainer\u001b[0m:\u001b[36mreport\u001b[0m:\u001b[36m209\u001b[0m - \u001b[1mEpoch 3 train 0.2132 test 0.1933 metric ['0.9361', '0.9361', '0.8828', '0.9361', '0.8974']\u001b[0m\n",
      "100%|\u001b[38;2;30;71;6m██████████\u001b[0m| 94/94 [00:01<00:00, 56.99it/s]\n",
      "\u001b[32m2025-06-18 08:54:25.294\u001b[0m | \u001b[1mINFO    \u001b[0m | \u001b[36mmltrainer.trainer\u001b[0m:\u001b[36mreport\u001b[0m:\u001b[36m209\u001b[0m - \u001b[1mEpoch 4 train 0.2142 test 0.1979 metric ['0.9226', '0.9226', '0.8536', '0.9226', '0.9003']\u001b[0m\n",
      "100%|\u001b[38;2;30;71;6m██████████\u001b[0m| 94/94 [00:01<00:00, 55.63it/s]\n",
      "\u001b[32m2025-06-18 08:54:27.508\u001b[0m | \u001b[1mINFO    \u001b[0m | \u001b[36mmltrainer.trainer\u001b[0m:\u001b[36mreport\u001b[0m:\u001b[36m209\u001b[0m - \u001b[1mEpoch 5 train 0.1883 test 0.2117 metric ['0.9226', '0.9226', '0.8483', '0.9226', '0.9040']\u001b[0m\n",
      "100%|\u001b[38;2;30;71;6m██████████\u001b[0m| 94/94 [00:01<00:00, 60.09it/s]\n",
      "\u001b[32m2025-06-18 08:54:29.566\u001b[0m | \u001b[1mINFO    \u001b[0m | \u001b[36mmltrainer.trainer\u001b[0m:\u001b[36mreport\u001b[0m:\u001b[36m209\u001b[0m - \u001b[1mEpoch 6 train 0.1725 test 0.1915 metric ['0.9334', '0.9334', '0.8685', '0.9334', '0.8636']\u001b[0m\n",
      "100%|\u001b[38;2;30;71;6m██████████\u001b[0m| 94/94 [00:01<00:00, 55.16it/s]\n",
      "\u001b[32m2025-06-18 08:54:31.776\u001b[0m | \u001b[1mINFO    \u001b[0m | \u001b[36mmltrainer.trainer\u001b[0m:\u001b[36mreport\u001b[0m:\u001b[36m209\u001b[0m - \u001b[1mEpoch 7 train 0.1598 test 0.1796 metric ['0.9375', '0.9375', '0.9033', '0.9375', '0.9378']\u001b[0m\n",
      "100%|\u001b[38;2;30;71;6m██████████\u001b[0m| 94/94 [00:01<00:00, 56.57it/s]\n",
      "\u001b[32m2025-06-18 08:54:33.977\u001b[0m | \u001b[1mINFO    \u001b[0m | \u001b[36mmltrainer.trainer\u001b[0m:\u001b[36mreport\u001b[0m:\u001b[36m209\u001b[0m - \u001b[1mEpoch 8 train 0.1409 test 0.1817 metric ['0.9416', '0.9416', '0.8649', '0.9416', '0.8631']\u001b[0m\n",
      "100%|\u001b[38;2;30;71;6m██████████\u001b[0m| 94/94 [00:01<00:00, 55.32it/s]\n",
      "\u001b[32m2025-06-18 08:54:36.182\u001b[0m | \u001b[1mINFO    \u001b[0m | \u001b[36mmltrainer.trainer\u001b[0m:\u001b[36mreport\u001b[0m:\u001b[36m209\u001b[0m - \u001b[1mEpoch 9 train 0.1462 test 0.1864 metric ['0.9389', '0.9389', '0.8763', '0.9389', '0.8893']\u001b[0m\n",
      "100%|\u001b[38;2;30;71;6m██████████\u001b[0m| 10/10 [00:21<00:00,  2.20s/it]\n"
     ]
    }
   ],
   "source": [
    "from mltrainer import Trainer, TrainerSettings, ReportTypes\n",
    "loss_fn = torch.nn.CrossEntropyLoss()\n",
    "\n",
    "with mlflow.start_run():\n",
    "    optimizer = torch.optim.Adam\n",
    "\n",
    "    settings = TrainerSettings(\n",
    "        epochs=10,\n",
    "        metrics=[accuracy, f1micro, f1macro, precision, recall],\n",
    "        logdir=\"logs/heart2D\",\n",
    "        train_steps=len(trainstreamer) // 5,\n",
    "        valid_steps=len(teststreamer) // 5,\n",
    "        reporttypes=[ReportTypes.TENSORBOARD, ReportTypes.MLFLOW],\n",
    "        scheduler_kwargs=None,\n",
    "        earlystop_kwargs=None\n",
    "    )\n",
    "\n",
    "    # modify the tags when you change them!\n",
    "    mlflow.set_tag(\"model\", \"Conv2D\")\n",
    "    mlflow.set_tag(\"dataset\", \"heart_small_binary\")\n",
    "    mlflow.log_param(\"scheduler\", \"None\")\n",
    "    mlflow.log_param(\"earlystop\", \"None\")\n",
    "\n",
    "    mlflow.log_params(config.__dict__)\n",
    "    mlflow.log_param(\"epochs\", settings.epochs)\n",
    "    mlflow.log_param(\"shape0\", shape[0])\n",
    "    mlflow.log_param(\"optimizer\", str(optimizer))\n",
    "    mlflow.log_params(settings.optimizer_kwargs)\n",
    "\n",
    "    trainer = Trainer(\n",
    "        model=model,\n",
    "        settings=settings,\n",
    "        loss_fn=loss_fn,\n",
    "        optimizer=optimizer,\n",
    "        traindataloader=trainstreamer.stream(),\n",
    "        validdataloader=teststreamer.stream(),\n",
    "        scheduler=None,\n",
    "        )\n",
    "    trainer.loop()\n"
   ]
  },
  {
   "cell_type": "code",
   "execution_count": 44,
   "metadata": {},
   "outputs": [
    {
     "data": {
      "text/plain": [
       "[Text(0.5, 23.52222222222222, 'Predicted'),\n",
       " Text(50.722222222222214, 0.5, 'Target')]"
      ]
     },
     "execution_count": 44,
     "metadata": {},
     "output_type": "execute_result"
    },
    {
     "data": {
      "image/png": "[encoded data removed]",
      "text/plain": [
       "<Figure size 640x480 with 2 Axes>"
      ]
     },
     "metadata": {},
     "output_type": "display_data"
    }
   ],
   "source": [
    "import seaborn as sns\n",
    "import numpy as np\n",
    "\n",
    "y_true = []\n",
    "y_pred = []\n",
    "\n",
    "testdata = teststreamer.stream()\n",
    "for _ in range(len(teststreamer)):\n",
    "    X, y = next(testdata)\n",
    "    yhat = model(X)\n",
    "    yhat = yhat.argmax(dim=1) # we get the one with the highest probability\n",
    "    y_pred.append(yhat.cpu().tolist())\n",
    "    y_true.append(y.cpu().tolist())\n",
    "\n",
    "yhat = [x for y in y_pred for x in y]\n",
    "y = [x for y in y_true for x in y]\n",
    "\n",
    "cfm = confusion_matrix(y, yhat)\n",
    "cfm = cfm / np.sum(cfm, axis=1, keepdims=True)\n",
    "\n",
    "plot = sns.heatmap(cfm, annot=cfm, fmt=\".3f\")\n",
    "plot.set(xlabel=\"Predicted\", ylabel=\"Target\")"
   ]
  }
 ],
 "metadata": {
  "kernelspec": {
   "display_name": ".venv",
   "language": "python",
   "name": "python3"
  },
  "language_info": {
   "codemirror_mode": {
    "name": "ipython",
    "version": 3
   },
   "file_extension": ".py",
   "mimetype": "text/x-python",
   "name": "python",
   "nbconvert_exporter": "python",
   "pygments_lexer": "ipython3",
   "version": "3.13.3"
  }
 },
 "nbformat": 4,
 "nbformat_minor": 2
}
