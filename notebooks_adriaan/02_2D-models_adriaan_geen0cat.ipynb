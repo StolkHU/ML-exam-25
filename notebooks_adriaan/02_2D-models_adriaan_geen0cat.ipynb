{
 "cells": [
  {
   "cell_type": "code",
   "execution_count": 37,
   "metadata": {},
   "outputs": [],
   "source": [
    "from mads_datasets.base import BaseDatastreamer\n",
    "from mltrainer.preprocessors import BasePreprocessor\n",
    "from pathlib import Path\n",
    "import pandas as pd\n",
    "import seaborn as sns\n",
    "from sklearn.metrics import confusion_matrix\n",
    "from torch import nn\n",
    "import torch\n",
    "\n",
    "from src import datasets, metrics"
   ]
  },
  {
   "cell_type": "code",
   "execution_count": 38,
   "metadata": {},
   "outputs": [
    {
     "name": "stdout",
     "output_type": "stream",
     "text": [
      "{'ptb': 'heart', 'arrhythmia': 'heart_big'}\n"
     ]
    }
   ],
   "source": [
    "import tomllib\n",
    "\n",
    "datadir = Path('../data')\n",
    "configfile = Path(\"config.toml\")\n",
    "\n",
    "with configfile.open('rb') as f:\n",
    "    config = tomllib.load(f)\n",
    "print(config)"
   ]
  },
  {
   "cell_type": "code",
   "execution_count": 39,
   "metadata": {},
   "outputs": [
    {
     "data": {
      "text/plain": [
       "(PosixPath('../data/heart_big_train.parq'),\n",
       " PosixPath('../data/heart_big_test.parq'))"
      ]
     },
     "execution_count": 39,
     "metadata": {},
     "output_type": "execute_result"
    }
   ],
   "source": [
    "trainfile = datadir / (config['arrhythmia'] + '_train.parq')\n",
    "testfile = datadir / (config['arrhythmia'] + '_test.parq')\n",
    "trainfile, testfile"
   ]
  },
  {
   "cell_type": "markdown",
   "metadata": {},
   "source": [
    "Get the 1D data into a 2D matrix"
   ]
  },
  {
   "cell_type": "code",
   "execution_count": 40,
   "metadata": {},
   "outputs": [],
   "source": [
    "shape = (16, 12)\n",
    "traindataset = datasets.HeartDataset2D(trainfile, target=\"target\", shape=shape)\n",
    "testdataset = datasets.HeartDataset2D(testfile, target=\"target\", shape=shape)\n",
    "\n",
    "# Alleen training data filteren\n",
    "train_mask = traindataset.y != 0\n",
    "traindataset.x = traindataset.x[train_mask]\n",
    "traindataset.y = traindataset.y[train_mask]\n",
    "\n",
    "# Test data wel de samples behouden, maar apart\n",
    "test_mask = testdataset.y != 0\n",
    "testdataset.x = testdataset.x[test_mask]\n",
    "testdataset.y = testdataset.y[test_mask]\n",
    "\n",
    "traindataset, testdataset\n",
    "if torch.backends.mps.is_available() and torch.backends.mps.is_built():\n",
    "    device = torch.device(\"mps\")\n",
    "    print(\"Using MPS\")\n",
    "else:\n",
    "    device = \"cpu\"\n"
   ]
  },
  {
   "cell_type": "markdown",
   "metadata": {},
   "source": [
    "Let's see how that works. \n",
    "Compare this to the 1D data to see if you understand the transformation."
   ]
  },
  {
   "cell_type": "code",
   "execution_count": 41,
   "metadata": {},
   "outputs": [
    {
     "data": {
      "text/plain": [
       "(torch.Size([1, 16, 12]), tensor(1))"
      ]
     },
     "execution_count": 41,
     "metadata": {},
     "output_type": "execute_result"
    },
    {
     "data": {
      "image/png": "[encoded data removed]",
      "text/plain": [
       "<Figure size 640x480 with 2 Axes>"
      ]
     },
     "metadata": {},
     "output_type": "display_data"
    }
   ],
   "source": [
    "x, y = traindataset[0]\n",
    "viz = x.squeeze().cpu().numpy()\n",
    "sns.heatmap(viz, cmap='rainbow')\n",
    "x.shape, y"
   ]
  },
  {
   "cell_type": "markdown",
   "metadata": {},
   "source": [
    "Load into a streamer"
   ]
  },
  {
   "cell_type": "code",
   "execution_count": 42,
   "metadata": {},
   "outputs": [
    {
     "data": {
      "text/plain": [
       "(471, 117)"
      ]
     },
     "execution_count": 42,
     "metadata": {},
     "output_type": "execute_result"
    }
   ],
   "source": [
    "trainstreamer = BaseDatastreamer(traindataset, preprocessor = BasePreprocessor(), batchsize=32)\n",
    "teststreamer = BaseDatastreamer(testdataset, preprocessor = BasePreprocessor(), batchsize=32)\n",
    "len(trainstreamer), len(teststreamer)"
   ]
  },
  {
   "cell_type": "code",
   "execution_count": 43,
   "metadata": {},
   "outputs": [
    {
     "data": {
      "text/plain": [
       "(torch.Size([32, 1, 16, 12]), torch.Size([32]))"
      ]
     },
     "execution_count": 43,
     "metadata": {},
     "output_type": "execute_result"
    }
   ],
   "source": [
    "x, y = next(trainstreamer.stream())\n",
    "x.shape, y.shape"
   ]
  },
  {
   "cell_type": "markdown",
   "metadata": {},
   "source": [
    "`mltrainer` provides a ConvBlock, which makes it easier to stack block in the model.\n",
    "It also provides an architecture inspired by AlexNet (2012) which is used as a starting point for image classification.\n",
    "\n",
    "Feel free to experiment with other architectures here:\n",
    "- adding ideas like resnet, googlenet, squeeze-excite, or even vision transformers (eg see [torch docs](https://docs.pytorch.org/tutorials/beginner/vt_tutorial.html#classifying-images-with-deit) ) \n",
    "- add additional layers like dropout, batchnorm, etc.\n",
    "- experiment with different ways to go from 4D to 2D tensors"
   ]
  },
  {
   "cell_type": "code",
   "execution_count": 44,
   "metadata": {},
   "outputs": [],
   "source": [
    "from mltrainer.imagemodels import CNNConfig, CNNblocks"
   ]
  },
  {
   "cell_type": "code",
   "execution_count": 45,
   "metadata": {},
   "outputs": [
    {
     "name": "stdout",
     "output_type": "stream",
     "text": [
      "Calculated matrix size: 48\n",
      "Caluclated flatten size: 1536\n"
     ]
    },
    {
     "data": {
      "text/plain": [
       "torch.Size([32, 5])"
      ]
     },
     "execution_count": 45,
     "metadata": {},
     "output_type": "execute_result"
    }
   ],
   "source": [
    "config = CNNConfig(\n",
    "    matrixshape=shape,\n",
    "    batchsize=32,\n",
    "    input_channels=1,\n",
    "    hidden=32,\n",
    "    kernel_size=3,\n",
    "    maxpool=2,\n",
    "    num_layers=2,\n",
    "    num_classes=5,\n",
    ")\n",
    "model = CNNblocks(config)\n",
    "model(x).shape"
   ]
  },
  {
   "cell_type": "code",
   "execution_count": 46,
   "metadata": {},
   "outputs": [],
   "source": [
    "yhat = model(x)"
   ]
  },
  {
   "cell_type": "markdown",
   "metadata": {},
   "source": [
    "The data is unbalanced, so we are interested in much more than just accuracy."
   ]
  },
  {
   "cell_type": "code",
   "execution_count": 47,
   "metadata": {},
   "outputs": [
    {
     "data": {
      "text/plain": [
       "{'matrixshape': (16, 12),\n",
       " 'batchsize': 32,\n",
       " 'input_channels': 1,\n",
       " 'hidden': 32,\n",
       " 'kernel_size': 3,\n",
       " 'maxpool': 2,\n",
       " 'num_layers': 2,\n",
       " 'num_classes': 5}"
      ]
     },
     "execution_count": 47,
     "metadata": {},
     "output_type": "execute_result"
    }
   ],
   "source": [
    "config.__dict__"
   ]
  },
  {
   "cell_type": "markdown",
   "metadata": {},
   "source": [
    "Read [here](https://scikit-learn.org/stable/modules/generated/sklearn.metrics.f1_score.html) about micro and macro F1 scores.\n"
   ]
  },
  {
   "cell_type": "code",
   "execution_count": 48,
   "metadata": {},
   "outputs": [],
   "source": [
    "f1micro = metrics.F1Score(average='micro')\n",
    "f1macro = metrics.F1Score(average='macro')\n",
    "precision = metrics.Precision('micro')\n",
    "recall = metrics.Recall('macro')\n",
    "accuracy = metrics.Accuracy()"
   ]
  },
  {
   "cell_type": "code",
   "execution_count": 49,
   "metadata": {},
   "outputs": [
    {
     "data": {
      "text/plain": [
       "<Experiment: artifact_location='/home/azureuser/MADS-exam-25/notebooks_adriaan/mlruns/2', creation_time=1750236057609, experiment_id='2', last_update_time=1750236057609, lifecycle_stage='active', name='2D alexnet without normal class', tags={}>"
      ]
     },
     "execution_count": 49,
     "metadata": {},
     "output_type": "execute_result"
    }
   ],
   "source": [
    "import mlflow\n",
    "mlflow.set_tracking_uri(\"sqlite:///mads_exam.db\")\n",
    "mlflow.set_experiment(\"2D alexnet without normal class\")"
   ]
  },
  {
   "cell_type": "code",
   "execution_count": 50,
   "metadata": {},
   "outputs": [
    {
     "name": "stderr",
     "output_type": "stream",
     "text": [
      "\u001b[32m2025-06-18 09:14:04.295\u001b[0m | \u001b[1mINFO    \u001b[0m | \u001b[36mmltrainer.trainer\u001b[0m:\u001b[36mdir_add_timestamp\u001b[0m:\u001b[36m24\u001b[0m - \u001b[1mLogging to logs/heart2D/20250618-091404\u001b[0m\n",
      "100%|\u001b[38;2;30;71;6m██████████\u001b[0m| 94/94 [00:01<00:00, 51.25it/s]\n",
      "\u001b[32m2025-06-18 09:14:07.210\u001b[0m | \u001b[1mINFO    \u001b[0m | \u001b[36mmltrainer.trainer\u001b[0m:\u001b[36mreport\u001b[0m:\u001b[36m209\u001b[0m - \u001b[1mEpoch 0 train 1.1480 test 0.9472 metric ['0.5761', '0.5761', '0.3411', '0.5761', '0.3803']\u001b[0m\n",
      "100%|\u001b[38;2;30;71;6m██████████\u001b[0m| 94/94 [00:01<00:00, 54.88it/s]\n",
      "\u001b[32m2025-06-18 09:14:09.618\u001b[0m | \u001b[1mINFO    \u001b[0m | \u001b[36mmltrainer.trainer\u001b[0m:\u001b[36mreport\u001b[0m:\u001b[36m209\u001b[0m - \u001b[1mEpoch 1 train 0.7763 test 0.5918 metric ['0.7296', '0.7296', '0.5400', '0.7296', '0.6015']\u001b[0m\n",
      "100%|\u001b[38;2;30;71;6m██████████\u001b[0m| 94/94 [00:01<00:00, 51.83it/s]\n",
      "\u001b[32m2025-06-18 09:14:12.001\u001b[0m | \u001b[1mINFO    \u001b[0m | \u001b[36mmltrainer.trainer\u001b[0m:\u001b[36mreport\u001b[0m:\u001b[36m209\u001b[0m - \u001b[1mEpoch 2 train 0.4914 test 0.5007 metric ['0.7948', '0.7948', '0.6643', '0.7948', '0.7164']\u001b[0m\n",
      "100%|\u001b[38;2;30;71;6m██████████\u001b[0m| 94/94 [00:01<00:00, 55.48it/s]\n",
      "\u001b[32m2025-06-18 09:14:14.296\u001b[0m | \u001b[1mINFO    \u001b[0m | \u001b[36mmltrainer.trainer\u001b[0m:\u001b[36mreport\u001b[0m:\u001b[36m209\u001b[0m - \u001b[1mEpoch 3 train 0.3935 test 0.3844 metric ['0.8601', '0.8601', '0.7242', '0.8601', '0.7653']\u001b[0m\n",
      "100%|\u001b[38;2;30;71;6m██████████\u001b[0m| 94/94 [00:01<00:00, 54.38it/s]\n",
      "\u001b[32m2025-06-18 09:14:16.627\u001b[0m | \u001b[1mINFO    \u001b[0m | \u001b[36mmltrainer.trainer\u001b[0m:\u001b[36mreport\u001b[0m:\u001b[36m209\u001b[0m - \u001b[1mEpoch 4 train 0.3415 test 0.2701 metric ['0.8954', '0.8954', '0.7835', '0.8954', '0.8483']\u001b[0m\n",
      "100%|\u001b[38;2;30;71;6m██████████\u001b[0m| 94/94 [00:01<00:00, 51.32it/s]\n",
      "\u001b[32m2025-06-18 09:14:19.122\u001b[0m | \u001b[1mINFO    \u001b[0m | \u001b[36mmltrainer.trainer\u001b[0m:\u001b[36mreport\u001b[0m:\u001b[36m209\u001b[0m - \u001b[1mEpoch 5 train 0.2903 test 0.2808 metric ['0.8940', '0.8940', '0.7985', '0.8940', '0.8280']\u001b[0m\n",
      "100%|\u001b[38;2;30;71;6m██████████\u001b[0m| 94/94 [00:01<00:00, 58.49it/s]\n",
      "\u001b[32m2025-06-18 09:14:21.357\u001b[0m | \u001b[1mINFO    \u001b[0m | \u001b[36mmltrainer.trainer\u001b[0m:\u001b[36mreport\u001b[0m:\u001b[36m209\u001b[0m - \u001b[1mEpoch 6 train 0.2627 test 0.3118 metric ['0.8913', '0.8913', '0.8002', '0.8913', '0.8488']\u001b[0m\n",
      "100%|\u001b[38;2;30;71;6m██████████\u001b[0m| 94/94 [00:01<00:00, 51.73it/s]\n",
      "\u001b[32m2025-06-18 09:14:23.720\u001b[0m | \u001b[1mINFO    \u001b[0m | \u001b[36mmltrainer.trainer\u001b[0m:\u001b[36mreport\u001b[0m:\u001b[36m209\u001b[0m - \u001b[1mEpoch 7 train 0.2475 test 0.2131 metric ['0.9117', '0.9117', '0.8399', '0.9117', '0.8779']\u001b[0m\n",
      "100%|\u001b[38;2;30;71;6m██████████\u001b[0m| 94/94 [00:01<00:00, 55.44it/s]\n",
      "\u001b[32m2025-06-18 09:14:25.978\u001b[0m | \u001b[1mINFO    \u001b[0m | \u001b[36mmltrainer.trainer\u001b[0m:\u001b[36mreport\u001b[0m:\u001b[36m209\u001b[0m - \u001b[1mEpoch 8 train 0.2164 test 0.2093 metric ['0.9361', '0.9361', '0.8695', '0.9361', '0.9080']\u001b[0m\n",
      "100%|\u001b[38;2;30;71;6m██████████\u001b[0m| 94/94 [00:01<00:00, 54.77it/s]\n",
      "\u001b[32m2025-06-18 09:14:28.521\u001b[0m | \u001b[1mINFO    \u001b[0m | \u001b[36mmltrainer.trainer\u001b[0m:\u001b[36mreport\u001b[0m:\u001b[36m209\u001b[0m - \u001b[1mEpoch 9 train 0.2170 test 0.1996 metric ['0.9389', '0.9389', '0.8491', '0.9389', '0.8897']\u001b[0m\n",
      "100%|\u001b[38;2;30;71;6m██████████\u001b[0m| 10/10 [00:24<00:00,  2.42s/it]\n"
     ]
    }
   ],
   "source": [
    "from mltrainer import Trainer, TrainerSettings, ReportTypes\n",
    "loss_fn = torch.nn.CrossEntropyLoss()\n",
    "\n",
    "with mlflow.start_run():\n",
    "    optimizer = torch.optim.Adam\n",
    "\n",
    "    settings = TrainerSettings(\n",
    "        epochs=10,\n",
    "        metrics=[accuracy, f1micro, f1macro, precision, recall],\n",
    "        logdir=\"logs/heart2D\",\n",
    "        train_steps=len(trainstreamer) // 5,\n",
    "        valid_steps=len(teststreamer) // 5,\n",
    "        reporttypes=[ReportTypes.TENSORBOARD, ReportTypes.MLFLOW],\n",
    "        scheduler_kwargs=None,\n",
    "        earlystop_kwargs=None\n",
    "    )\n",
    "\n",
    "    # modify the tags when you change them!\n",
    "    mlflow.set_tag(\"model\", \"Conv2D\")\n",
    "    mlflow.set_tag(\"dataset\", \"heart_small_binary\")\n",
    "    mlflow.log_param(\"scheduler\", \"None\")\n",
    "    mlflow.log_param(\"earlystop\", \"None\")\n",
    "\n",
    "    mlflow.log_params(config.__dict__)\n",
    "    mlflow.log_param(\"epochs\", settings.epochs)\n",
    "    mlflow.log_param(\"shape0\", shape[0])\n",
    "    mlflow.log_param(\"optimizer\", str(optimizer))\n",
    "    mlflow.log_params(settings.optimizer_kwargs)\n",
    "\n",
    "    trainer = Trainer(\n",
    "        model=model,\n",
    "        settings=settings,\n",
    "        loss_fn=loss_fn,\n",
    "        optimizer=optimizer,\n",
    "        traindataloader=trainstreamer.stream(),\n",
    "        validdataloader=teststreamer.stream(),\n",
    "        scheduler=None,\n",
    "        )\n",
    "    trainer.loop()\n"
   ]
  },
  {
   "cell_type": "code",
   "execution_count": 52,
   "metadata": {},
   "outputs": [
    {
     "data": {
      "image/png": "[encoded data removed]",
      "text/plain": [
       "<Figure size 800x600 with 2 Axes>"
      ]
     },
     "metadata": {},
     "output_type": "display_data"
    }
   ],
   "source": [
    "import matplotlib.pyplot as plt\n",
    "import seaborn as sns\n",
    "import numpy as np\n",
    "\n",
    "y_true = []\n",
    "y_pred = []\n",
    "\n",
    "testdata = teststreamer.stream()\n",
    "for _ in range(len(teststreamer)):\n",
    "    X, y = next(testdata)\n",
    "    yhat = model(X)\n",
    "    yhat = yhat.argmax(dim=1)\n",
    "    y_pred.append(yhat.cpu().tolist())\n",
    "    y_true.append(y.cpu().tolist())\n",
    "\n",
    "yhat = [x for y in y_pred for x in y]\n",
    "y = [x for y in y_true for x in y]\n",
    "\n",
    "cfm = confusion_matrix(y, yhat)\n",
    "cfm = cfm / np.sum(cfm, axis=1, keepdims=True)\n",
    "\n",
    "# Maak de plot met custom labels\n",
    "plt.figure(figsize=(8, 6))\n",
    "plot = sns.heatmap(cfm, annot=cfm, fmt=\".3f\", cmap='Blues', cbar_kws={'label': 'Recall'})\n",
    "\n",
    "# Custom tick labels - pas aan op basis van welke classes je hebt\n",
    "if traindataset.y.min() == 0:  # Als je labels 0-3 hebt (na remapping)\n",
    "    class_labels = ['S', 'V', 'F', 'Q']\n",
    "else:  # Als je labels 1-4 hebt (zonder remapping)\n",
    "    class_labels = ['S (1)', 'V (2)', 'F (3)', 'Q (4)']\n",
    "\n",
    "plot.set_xticklabels(class_labels, rotation=0)\n",
    "plot.set_yticklabels(class_labels, rotation=0)\n",
    "plot.set(xlabel=\"Predicted Class\", ylabel=\"True Class\", title=\"Confusion Matrix (Normalized by Row)\")\n",
    "\n",
    "plt.tight_layout()\n",
    "plt.show()"
   ]
  }
 ],
 "metadata": {
  "kernelspec": {
   "display_name": ".venv",
   "language": "python",
   "name": "python3"
  },
  "language_info": {
   "codemirror_mode": {
    "name": "ipython",
    "version": 3
   },
   "file_extension": ".py",
   "mimetype": "text/x-python",
   "name": "python",
   "nbconvert_exporter": "python",
   "pygments_lexer": "ipython3",
   "version": "3.13.3"
  }
 },
 "nbformat": 4,
 "nbformat_minor": 2
}
